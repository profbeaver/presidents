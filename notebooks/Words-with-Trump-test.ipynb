{
 "cells": [
  {
   "cell_type": "code",
   "execution_count": 26,
   "metadata": {
    "collapsed": true
   },
   "outputs": [],
   "source": [
    "import re\n",
    "import itertools\n",
    "import pandas as pd\n",
    "import numpy as np"
   ]
  },
  {
   "cell_type": "code",
   "execution_count": 27,
   "metadata": {
    "collapsed": false
   },
   "outputs": [
    {
     "name": "stdout",
     "output_type": "stream",
     "text": [
      "|standard_stopwords| = 206\n"
     ]
    }
   ],
   "source": [
    "# import __init__; reload(__init__)\n",
    "from __init__ import select, standard_stopwords, read_ldjson, tokenize\n",
    "from __init__ import iter_groups_speeches_count, iter_speeches_counts, iter_speech_counts\n",
    "print '|standard_stopwords| =', len(standard_stopwords)"
   ]
  },
  {
   "cell_type": "code",
   "execution_count": 28,
   "metadata": {
    "collapsed": false
   },
   "outputs": [],
   "source": [
    "import matplotlib.pyplot as plt\n",
    "import matplotlib.colors as mcolors\n",
    "import matplotlib.dates as mdates\n",
    "import matplotlib.ticker as ticker\n",
    "import matplotlib.gridspec as mgridspec\n",
    "import IPython.display\n",
    "from IPython.display import display"
   ]
  },
  {
   "cell_type": "code",
   "execution_count": 29,
   "metadata": {
    "collapsed": true
   },
   "outputs": [],
   "source": [
    "# reset matplotlib params just to be consistent\n",
    "# plt.rcParams.update(plt.rcParamsDefault)\n",
    "# %matplotlib inline"
   ]
  },
  {
   "cell_type": "code",
   "execution_count": 30,
   "metadata": {
    "collapsed": true
   },
   "outputs": [],
   "source": [
    "# e.g., 'seaborn' | 'ggplot' | 'fivethirtyeight' ... see plt.style.available\n",
    "#plt.style.use('ggplot')"
   ]
  },
  {
   "cell_type": "code",
   "execution_count": 32,
   "metadata": {
    "collapsed": false
   },
   "outputs": [
    {
     "name": "stdout",
     "output_type": "stream",
     "text": [
      "available styles: bmh classic dark_background fivethirtyeight ggplot grayscale seaborn seaborn-bright seaborn-colorblind seaborn-dark seaborn-dark-palette seaborn-darkgrid seaborn-deep seaborn-muted seaborn-notebook seaborn-paper seaborn-pastel seaborn-poster seaborn-talk seaborn-ticks seaborn-white seaborn-whitegrid\n"
     ]
    }
   ],
   "source": [
    "print 'available styles: %s' % ' '.join(sorted(plt.style.available))"
   ]
  },
  {
   "cell_type": "code",
   "execution_count": 8,
   "metadata": {
    "collapsed": true
   },
   "outputs": [],
   "source": [
    "# mending plots\n",
    "import networkx as nx\n",
    "from adjustText import adjust_text"
   ]
  },
  {
   "cell_type": "code",
   "execution_count": 9,
   "metadata": {
    "collapsed": true
   },
   "outputs": [],
   "source": [
    "from wordcloud import WordCloud"
   ]
  },
  {
   "cell_type": "markdown",
   "metadata": {},
   "source": [
    "## Speech loading"
   ]
  },
  {
   "cell_type": "code",
   "execution_count": 10,
   "metadata": {
    "collapsed": true
   },
   "outputs": [],
   "source": [
    "all_tapp_inaugurals = list(read_ldjson('../data/tapp/inaugurals.json'))"
   ]
  },
  {
   "cell_type": "code",
   "execution_count": 11,
   "metadata": {
    "collapsed": true
   },
   "outputs": [],
   "source": [
    "all_tapp_election2016 = list(read_ldjson('../data/tapp/election2016.json'))"
   ]
  },
  {
   "cell_type": "code",
   "execution_count": 12,
   "metadata": {
    "collapsed": true
   },
   "outputs": [],
   "source": [
    "# a lot of 2012 speeches are just a YouTube video\n",
    "all_tapp_election2012 = filter(lambda speech: len(speech['text']) > 0,\n",
    "                               read_ldjson('../data/tapp/election2012.json'))"
   ]
  },
  {
   "cell_type": "code",
   "execution_count": 13,
   "metadata": {
    "collapsed": true
   },
   "outputs": [],
   "source": [
    "all_tapp_election2008 = list(read_ldjson('../data/tapp/election2008.json'))"
   ]
  },
  {
   "cell_type": "code",
   "execution_count": 14,
   "metadata": {
    "collapsed": true
   },
   "outputs": [],
   "source": [
    "all_millercenter = list(read_ldjson('../data/millercenter/speeches.json'))"
   ]
  },
  {
   "cell_type": "code",
   "execution_count": 15,
   "metadata": {
    "collapsed": true
   },
   "outputs": [],
   "source": [
    "def is_campaign_speech(speech):\n",
    "    return speech['category'] == 'campaign speeches'\n",
    "def not_trump(speech):\n",
    "    return 'Trump' not in speech['author']\n",
    "def is_trump(speech):\n",
    "    return speech['author'] == 'Donald J. Trump'"
   ]
  },
  {
   "cell_type": "code",
   "execution_count": 16,
   "metadata": {
    "collapsed": false
   },
   "outputs": [
    {
     "name": "stdout",
     "output_type": "stream",
     "text": [
      "|speeches[election2008_speeches]| = 686\n",
      "|speeches[election2012_speeches]| = 281\n",
      "|speeches[election2016_speeches]| = 383\n",
      "|speeches[inaugurals]| = 58\n",
      "|speeches[inaugurals_postwar_pretrump]| = 17\n",
      "|speeches[inaugurals_pretrump]| = 57\n",
      "|speeches[inaugurals_prewar]| = 40\n",
      "|speeches[millercenter]| = 962\n",
      "|speeches[trump_election2016_speeches]| = 60\n",
      "|speeches[trump_inaugurals]| = 1\n"
     ]
    }
   ],
   "source": [
    "speeches = {\n",
    "    'millercenter': all_millercenter,\n",
    "    'inaugurals': all_tapp_inaugurals,\n",
    "    'inaugurals_pretrump': filter(not_trump, all_tapp_inaugurals),\n",
    "    'inaugurals_prewar': filter(lambda speech: speech['timestamp'] < '1948-11-01', all_tapp_inaugurals),\n",
    "    'inaugurals_postwar_pretrump': filter(lambda speech: speech['timestamp'] > '1948-11-01', filter(not_trump, all_tapp_inaugurals)),\n",
    "    'trump_inaugurals': filter(is_trump, all_tapp_inaugurals),\n",
    "    # tapp election campaigns (speeches only)\n",
    "    'election2016_speeches': filter(is_campaign_speech, all_tapp_election2016),\n",
    "    'election2012_speeches': filter(is_campaign_speech, all_tapp_election2012),\n",
    "    'election2008_speeches': filter(is_campaign_speech, all_tapp_election2008),\n",
    "    # tapp + trump\n",
    "    'trump_election2016_speeches': filter(is_trump, filter(is_campaign_speech, all_tapp_election2016)),\n",
    "}\n",
    "for key in sorted(speeches):\n",
    "    print '|speeches[{:}]| = {:d}'.format(key, len(speeches[key]))"
   ]
  },
  {
   "cell_type": "markdown",
   "metadata": {},
   "source": [
    "# Proportion of speech allocated to specific word groups"
   ]
  },
  {
   "cell_type": "code",
   "execution_count": 17,
   "metadata": {
    "collapsed": false
   },
   "outputs": [],
   "source": [
    "def create_group_x_synset_df(groups, synsets, stopwords=None):\n",
    "    df = pd.DataFrame.from_dict(iter_groups_speeches_count(groups, synsets, stopwords))\n",
    "    # there's probably an easier way to do this in one go with df.pivot_table(...)\n",
    "    df_grouped = df.groupby(['synset', 'group']).aggregate({'synset_count': sum, 'total_count': sum})\n",
    "    df_grouped['synset_proportion'] = df_grouped.synset_count / df_grouped.total_count\n",
    "    df_pivot = df_grouped.reset_index(1).pivot(columns='group', values='synset_proportion')\n",
    "    # reorder columns and rows to match order in groups and synsets lists\n",
    "    return df_pivot[[name for name, _ in groups]].reindex([name for name, _ in synsets])"
   ]
  },
  {
   "cell_type": "code",
   "execution_count": 18,
   "metadata": {
    "collapsed": true
   },
   "outputs": [],
   "source": [
    "base_synsets = [\n",
    "    ('freedom(s)', ['freedom', 'freedoms']),\n",
    "    ('libert(y/ies)', ['liberty', 'liberties']),\n",
    "    ('rights', ['rights']), \n",
    "    ('public', ['public']), \n",
    "    #('right(s)', ['right', 'rights']),\n",
    "    ('justice', ['justice']),\n",
    "    ('peace(ful)', ['peace', 'peaceful']),\n",
    "    ('america(n(s))', ['america', 'american', 'americans']),\n",
    "    ('job(s)', ['job', 'jobs']),\n",
    "    ('constitution', ['constitution']),\n",
    "    ('russia/ussr', ['russia', 'ussr']),\n",
    "    ('china', ['china']),\n",
    "    #('principle(s/d)', ['principle', 'principles', 'principled']),\n",
    "    #('immigrate(ion)', ['immigrate', 'immigrates', 'immigrated', 'immigrating', 'immigration']),\n",
    "    #('great(er/est)', ['great', 'greater', 'greatest']),\n",
    "    #('trump', ['trump']),\n",
    "    #('donald', ['donald']),\n",
    "]\n",
    "base_synsets_lookup = dict(base_synsets)\n",
    "def combine_synsets(*keys):\n",
    "    return '+'.join(keys), [token for key in keys for token in base_synsets_lookup[key]]\n",
    "synsets = base_synsets + [\n",
    "    combine_synsets('freedom(s)', 'libert(y/ies)'),\n",
    "    combine_synsets('freedom(s)', 'libert(y/ies)', 'rights', 'public'),\n",
    "    ('china-et-al', [\"china\", \"mexico\", \"military\", \"hell\", \n",
    "                     \"iran\", \"tough\", \"disaster\" \"horrible\", \n",
    "                     \"worst\", \"strong\", \"isis\", \"immigration\", \"border\", \"borders\"]),\n",
    "    #combine_synsets(['trump', 'donald']),\n",
    "]"
   ]
  },
  {
   "cell_type": "code",
   "execution_count": 19,
   "metadata": {
    "collapsed": true
   },
   "outputs": [],
   "source": [
    "groups = [\n",
    "    #('Pre-war inaugural addresses', speeches['inaugurals_prewar']),\n",
    "    #('Post-war, pre-Trump inaugural addresses', speeches['inaugurals_postwar_pretrump']),\n",
    "    ('All Miller Center speeches', speeches['millercenter']),\n",
    "    ('All prior inaugural addresses', speeches['inaugurals_pretrump']),\n",
    "    ('All 2008 campaign speeches', speeches['election2008_speeches']),\n",
    "    ('All 2012 campaign speeches', speeches['election2012_speeches']),\n",
    "    ('All 2016 campaign speeches', speeches['election2016_speeches']),\n",
    "    ('Trump campaign speeches', speeches['trump_election2016_speeches']),\n",
    "    ('Trump inaugural address', speeches['trump_inaugurals'])\n",
    "]\n",
    "# groups_colors = ['#27BC8A', \n",
    "#                  '#EBA911', \n",
    "#                  '#BC5D27',\n",
    "#                 ]\n",
    "\n",
    "focus_synset_names = {\n",
    "    'freedom(s)', 'libert(y/ies)', 'rights', 'public', 'peace' \n",
    "    #'america(n(s))', 'job(s)',\n",
    "}\n",
    "focus_synsets = [(synset_name, synset_tokens) for synset_name, synset_tokens in synsets\n",
    "                 if synset_name in focus_synset_names]"
   ]
  },
  {
   "cell_type": "code",
   "execution_count": 20,
   "metadata": {
    "collapsed": false
   },
   "outputs": [],
   "source": [
    "df = create_group_x_synset_df(groups, focus_synsets, standard_stopwords)"
   ]
  },
  {
   "cell_type": "code",
   "execution_count": 21,
   "metadata": {
    "collapsed": false
   },
   "outputs": [
    {
     "data": {
      "text/html": [
       "<div>\n",
       "<table border=\"1\" class=\"dataframe\">\n",
       "  <thead>\n",
       "    <tr style=\"text-align: right;\">\n",
       "      <th>group</th>\n",
       "      <th>All Miller Center speeches</th>\n",
       "      <th>All prior inaugural addresses</th>\n",
       "      <th>All 2008 campaign speeches</th>\n",
       "      <th>All 2012 campaign speeches</th>\n",
       "      <th>All 2016 campaign speeches</th>\n",
       "      <th>Trump campaign speeches</th>\n",
       "      <th>Trump inaugural address</th>\n",
       "    </tr>\n",
       "    <tr>\n",
       "      <th>synset</th>\n",
       "      <th></th>\n",
       "      <th></th>\n",
       "      <th></th>\n",
       "      <th></th>\n",
       "      <th></th>\n",
       "      <th></th>\n",
       "      <th></th>\n",
       "    </tr>\n",
       "  </thead>\n",
       "  <tbody>\n",
       "    <tr>\n",
       "      <th>freedom(s)</th>\n",
       "      <td>0.001369</td>\n",
       "      <td>0.003291</td>\n",
       "      <td>0.000799</td>\n",
       "      <td>0.001626</td>\n",
       "      <td>0.000663</td>\n",
       "      <td>0.000290</td>\n",
       "      <td>0.001608</td>\n",
       "    </tr>\n",
       "    <tr>\n",
       "      <th>libert(y/ies)</th>\n",
       "      <td>0.000641</td>\n",
       "      <td>0.002326</td>\n",
       "      <td>0.000253</td>\n",
       "      <td>0.000921</td>\n",
       "      <td>0.000291</td>\n",
       "      <td>0.000179</td>\n",
       "      <td>0.000000</td>\n",
       "    </tr>\n",
       "    <tr>\n",
       "      <th>rights</th>\n",
       "      <td>0.001387</td>\n",
       "      <td>0.002378</td>\n",
       "      <td>0.000887</td>\n",
       "      <td>0.000600</td>\n",
       "      <td>0.001088</td>\n",
       "      <td>0.000331</td>\n",
       "      <td>0.000000</td>\n",
       "    </tr>\n",
       "    <tr>\n",
       "      <th>public</th>\n",
       "      <td>0.003032</td>\n",
       "      <td>0.003912</td>\n",
       "      <td>0.001050</td>\n",
       "      <td>0.000455</td>\n",
       "      <td>0.001147</td>\n",
       "      <td>0.001297</td>\n",
       "      <td>0.001608</td>\n",
       "    </tr>\n",
       "  </tbody>\n",
       "</table>\n",
       "</div>"
      ],
      "text/plain": [
       "group          All Miller Center speeches  All prior inaugural addresses  \\\n",
       "synset                                                                     \n",
       "freedom(s)                       0.001369                       0.003291   \n",
       "libert(y/ies)                    0.000641                       0.002326   \n",
       "rights                           0.001387                       0.002378   \n",
       "public                           0.003032                       0.003912   \n",
       "\n",
       "group          All 2008 campaign speeches  All 2012 campaign speeches  \\\n",
       "synset                                                                  \n",
       "freedom(s)                       0.000799                    0.001626   \n",
       "libert(y/ies)                    0.000253                    0.000921   \n",
       "rights                           0.000887                    0.000600   \n",
       "public                           0.001050                    0.000455   \n",
       "\n",
       "group          All 2016 campaign speeches  Trump campaign speeches  \\\n",
       "synset                                                               \n",
       "freedom(s)                       0.000663                 0.000290   \n",
       "libert(y/ies)                    0.000291                 0.000179   \n",
       "rights                           0.001088                 0.000331   \n",
       "public                           0.001147                 0.001297   \n",
       "\n",
       "group          Trump inaugural address  \n",
       "synset                                  \n",
       "freedom(s)                    0.001608  \n",
       "libert(y/ies)                 0.000000  \n",
       "rights                        0.000000  \n",
       "public                        0.001608  "
      ]
     },
     "execution_count": 21,
     "metadata": {},
     "output_type": "execute_result"
    }
   ],
   "source": [
    "df"
   ]
  },
  {
   "cell_type": "code",
   "execution_count": 243,
   "metadata": {
    "collapsed": false
   },
   "outputs": [],
   "source": [
    "# 1/df"
   ]
  },
  {
   "cell_type": "code",
   "execution_count": 22,
   "metadata": {
    "collapsed": false
   },
   "outputs": [
    {
     "data": {
      "image/png": "[encoded data removed]",
      "text/plain": [
       "<matplotlib.figure.Figure at 0x119262f10>"
      ]
     },
     "metadata": {},
     "output_type": "display_data"
    }
   ],
   "source": [
    "ax = df.plot(figsize=(8.5, 4), kind='bar')\n",
    "ax.xaxis.label.set_visible(False)\n",
    "ax.yaxis.set_major_formatter(ticker.FuncFormatter(lambda y, _: '{:.02%}'.format(y)))\n",
    "legend = ax.legend()\n",
    "legend.set_title(None)\n",
    "plt.legend(loc=\"upper left\", bbox_to_anchor=(1,1))\n",
    "plt.xticks(rotation=0)\n",
    "plt.ylabel('Proportion of content words')\n",
    "plt.title('Use of democratic vocabulary by President Trump and many others')\n",
    "plt.tight_layout()\n",
    "# plt.savefig('democratic_vocabulary_proportions.pdf')"
   ]
  },
  {
   "cell_type": "markdown",
   "metadata": {
    "collapsed": true
   },
   "source": [
    "# Surname mentions in inaugural speeches"
   ]
  },
  {
   "cell_type": "code",
   "execution_count": 32,
   "metadata": {
    "collapsed": true
   },
   "outputs": [],
   "source": [
    "pd.options.display.max_rows = 7\n",
    "pd.options.display.max_columns = 7"
   ]
  },
  {
   "cell_type": "code",
   "execution_count": 33,
   "metadata": {
    "collapsed": true
   },
   "outputs": [],
   "source": [
    "def iter_surnames(speeches, surnames):\n",
    "    for speech in speeches:\n",
    "        text = speech['text']\n",
    "        title = speech['author'] + ': ' + speech['title']\n",
    "        for surname in surnames:\n",
    "            surname_count = text.count(surname)\n",
    "            yield dict(title=title, surname=surname, count=surname_count)"
   ]
  },
  {
   "cell_type": "code",
   "execution_count": 34,
   "metadata": {
    "collapsed": true
   },
   "outputs": [],
   "source": [
    "surnames_list = [speech['author'].split()[-1] for speech in speeches['inaugurals']]\n",
    "surnames = set(surnames_list)"
   ]
  },
  {
   "cell_type": "code",
   "execution_count": 35,
   "metadata": {
    "collapsed": true
   },
   "outputs": [],
   "source": [
    "titles_ordered = [speech['author'] + ': ' + speech['title'] for speech in speeches['inaugurals']]\n",
    "surnames_ordered = sorted(list(surnames), key=surnames_list.index)"
   ]
  },
  {
   "cell_type": "code",
   "execution_count": 37,
   "metadata": {
    "collapsed": false
   },
   "outputs": [
    {
     "data": {
      "text/html": [
       "<div>\n",
       "<table border=\"1\" class=\"dataframe\">\n",
       "  <thead>\n",
       "    <tr style=\"text-align: right;\">\n",
       "      <th></th>\n",
       "      <th>count</th>\n",
       "      <th>surname</th>\n",
       "      <th>title</th>\n",
       "    </tr>\n",
       "  </thead>\n",
       "  <tbody>\n",
       "    <tr>\n",
       "      <th>0</th>\n",
       "      <td>0</td>\n",
       "      <td>Wilson</td>\n",
       "      <td>George Washington: Inaugural Address</td>\n",
       "    </tr>\n",
       "    <tr>\n",
       "      <th>1</th>\n",
       "      <td>0</td>\n",
       "      <td>Jackson</td>\n",
       "      <td>George Washington: Inaugural Address</td>\n",
       "    </tr>\n",
       "    <tr>\n",
       "      <th>2</th>\n",
       "      <td>0</td>\n",
       "      <td>Buren</td>\n",
       "      <td>George Washington: Inaugural Address</td>\n",
       "    </tr>\n",
       "    <tr>\n",
       "      <th>...</th>\n",
       "      <td>...</td>\n",
       "      <td>...</td>\n",
       "      <td>...</td>\n",
       "    </tr>\n",
       "    <tr>\n",
       "      <th>2027</th>\n",
       "      <td>0</td>\n",
       "      <td>Truman</td>\n",
       "      <td>Donald J. Trump: Inaugural Address</td>\n",
       "    </tr>\n",
       "    <tr>\n",
       "      <th>2028</th>\n",
       "      <td>0</td>\n",
       "      <td>Polk</td>\n",
       "      <td>Donald J. Trump: Inaugural Address</td>\n",
       "    </tr>\n",
       "    <tr>\n",
       "      <th>2029</th>\n",
       "      <td>0</td>\n",
       "      <td>Monroe</td>\n",
       "      <td>Donald J. Trump: Inaugural Address</td>\n",
       "    </tr>\n",
       "  </tbody>\n",
       "</table>\n",
       "<p>2030 rows × 3 columns</p>\n",
       "</div>"
      ],
      "text/plain": [
       "      count  surname                                 title\n",
       "0         0   Wilson  George Washington: Inaugural Address\n",
       "1         0  Jackson  George Washington: Inaugural Address\n",
       "2         0    Buren  George Washington: Inaugural Address\n",
       "...     ...      ...                                   ...\n",
       "2027      0   Truman    Donald J. Trump: Inaugural Address\n",
       "2028      0     Polk    Donald J. Trump: Inaugural Address\n",
       "2029      0   Monroe    Donald J. Trump: Inaugural Address\n",
       "\n",
       "[2030 rows x 3 columns]"
      ]
     },
     "execution_count": 37,
     "metadata": {},
     "output_type": "execute_result"
    }
   ],
   "source": [
    "df_surnames = pd.DataFrame.from_dict(iter_surnames(speeches['inaugurals'], surnames))\n",
    "df_surnames"
   ]
  },
  {
   "cell_type": "code",
   "execution_count": 38,
   "metadata": {
    "collapsed": false,
    "scrolled": true
   },
   "outputs": [
    {
     "data": {
      "text/html": [
       "<div>\n",
       "<table border=\"1\" class=\"dataframe\">\n",
       "  <thead>\n",
       "    <tr style=\"text-align: right;\">\n",
       "      <th>surname</th>\n",
       "      <th>Washington</th>\n",
       "      <th>Adams</th>\n",
       "      <th>Jefferson</th>\n",
       "      <th>...</th>\n",
       "      <th>Clinton</th>\n",
       "      <th>Obama</th>\n",
       "      <th>Trump</th>\n",
       "    </tr>\n",
       "    <tr>\n",
       "      <th>title</th>\n",
       "      <th></th>\n",
       "      <th></th>\n",
       "      <th></th>\n",
       "      <th></th>\n",
       "      <th></th>\n",
       "      <th></th>\n",
       "      <th></th>\n",
       "    </tr>\n",
       "  </thead>\n",
       "  <tbody>\n",
       "    <tr>\n",
       "      <th>George Washington: Inaugural Address</th>\n",
       "      <td>0</td>\n",
       "      <td>0</td>\n",
       "      <td>0</td>\n",
       "      <td>...</td>\n",
       "      <td>0</td>\n",
       "      <td>0</td>\n",
       "      <td>0</td>\n",
       "    </tr>\n",
       "    <tr>\n",
       "      <th>George Washington: Second Inaugural Address</th>\n",
       "      <td>0</td>\n",
       "      <td>0</td>\n",
       "      <td>0</td>\n",
       "      <td>...</td>\n",
       "      <td>0</td>\n",
       "      <td>0</td>\n",
       "      <td>0</td>\n",
       "    </tr>\n",
       "    <tr>\n",
       "      <th>John Adams: Inaugural Address</th>\n",
       "      <td>0</td>\n",
       "      <td>0</td>\n",
       "      <td>0</td>\n",
       "      <td>...</td>\n",
       "      <td>0</td>\n",
       "      <td>0</td>\n",
       "      <td>0</td>\n",
       "    </tr>\n",
       "    <tr>\n",
       "      <th>...</th>\n",
       "      <td>...</td>\n",
       "      <td>...</td>\n",
       "      <td>...</td>\n",
       "      <td>...</td>\n",
       "      <td>...</td>\n",
       "      <td>...</td>\n",
       "      <td>...</td>\n",
       "    </tr>\n",
       "    <tr>\n",
       "      <th>Barack Obama: Inaugural Address</th>\n",
       "      <td>0</td>\n",
       "      <td>0</td>\n",
       "      <td>0</td>\n",
       "      <td>...</td>\n",
       "      <td>0</td>\n",
       "      <td>0</td>\n",
       "      <td>0</td>\n",
       "    </tr>\n",
       "    <tr>\n",
       "      <th>Barack Obama: Second Inaugural Address</th>\n",
       "      <td>0</td>\n",
       "      <td>0</td>\n",
       "      <td>0</td>\n",
       "      <td>...</td>\n",
       "      <td>0</td>\n",
       "      <td>0</td>\n",
       "      <td>0</td>\n",
       "    </tr>\n",
       "    <tr>\n",
       "      <th>Donald J. Trump: Inaugural Address</th>\n",
       "      <td>2</td>\n",
       "      <td>0</td>\n",
       "      <td>0</td>\n",
       "      <td>...</td>\n",
       "      <td>1</td>\n",
       "      <td>3</td>\n",
       "      <td>0</td>\n",
       "    </tr>\n",
       "  </tbody>\n",
       "</table>\n",
       "<p>58 rows × 35 columns</p>\n",
       "</div>"
      ],
      "text/plain": [
       "surname                                      Washington  Adams  Jefferson  \\\n",
       "title                                                                       \n",
       "George Washington: Inaugural Address                  0      0          0   \n",
       "George Washington: Second Inaugural Address           0      0          0   \n",
       "John Adams: Inaugural Address                         0      0          0   \n",
       "...                                                 ...    ...        ...   \n",
       "Barack Obama: Inaugural Address                       0      0          0   \n",
       "Barack Obama: Second Inaugural Address                0      0          0   \n",
       "Donald J. Trump: Inaugural Address                    2      0          0   \n",
       "\n",
       "surname                                      ...    Clinton  Obama  Trump  \n",
       "title                                        ...                           \n",
       "George Washington: Inaugural Address         ...          0      0      0  \n",
       "George Washington: Second Inaugural Address  ...          0      0      0  \n",
       "John Adams: Inaugural Address                ...          0      0      0  \n",
       "...                                          ...        ...    ...    ...  \n",
       "Barack Obama: Inaugural Address              ...          0      0      0  \n",
       "Barack Obama: Second Inaugural Address       ...          0      0      0  \n",
       "Donald J. Trump: Inaugural Address           ...          1      3      0  \n",
       "\n",
       "[58 rows x 35 columns]"
      ]
     },
     "execution_count": 38,
     "metadata": {},
     "output_type": "execute_result"
    }
   ],
   "source": [
    "df_xtab = df_surnames.pivot(index='title', columns='surname', values='count')\n",
    "# reorder columns\n",
    "df_xtab = df_xtab[surnames_ordered]\n",
    "# reorder rows\n",
    "df_xtab = df_xtab.reindex(titles_ordered)\n",
    "df_xtab"
   ]
  },
  {
   "cell_type": "code",
   "execution_count": 33,
   "metadata": {
    "collapsed": false
   },
   "outputs": [
    {
     "ename": "NameError",
     "evalue": "name 'df_xtab' is not defined",
     "output_type": "error",
     "traceback": [
      "\u001b[0;31m---------------------------------------------------------------------------\u001b[0m",
      "\u001b[0;31mNameError\u001b[0m                                 Traceback (most recent call last)",
      "\u001b[0;32m<ipython-input-33-cc52be5a75ea>\u001b[0m in \u001b[0;36m<module>\u001b[0;34m()\u001b[0m\n\u001b[1;32m      1\u001b[0m \u001b[0;31m# based on https://stackoverflow.com/a/16124677\u001b[0m\u001b[0;34m\u001b[0m\u001b[0;34m\u001b[0m\u001b[0m\n\u001b[1;32m      2\u001b[0m \u001b[0mplt\u001b[0m\u001b[0;34m.\u001b[0m\u001b[0mfigure\u001b[0m\u001b[0;34m(\u001b[0m\u001b[0mfigsize\u001b[0m\u001b[0;34m=\u001b[0m\u001b[0;34m(\u001b[0m\u001b[0;36m8.5\u001b[0m\u001b[0;34m,\u001b[0m \u001b[0;36m8.5\u001b[0m\u001b[0;34m)\u001b[0m\u001b[0;34m)\u001b[0m\u001b[0;34m\u001b[0m\u001b[0m\n\u001b[0;32m----> 3\u001b[0;31m \u001b[0mplt\u001b[0m\u001b[0;34m.\u001b[0m\u001b[0mpcolor\u001b[0m\u001b[0;34m(\u001b[0m\u001b[0mdf_xtab\u001b[0m\u001b[0;34m,\u001b[0m \u001b[0mcmap\u001b[0m\u001b[0;34m=\u001b[0m\u001b[0mplt\u001b[0m\u001b[0;34m.\u001b[0m\u001b[0mcm\u001b[0m\u001b[0;34m.\u001b[0m\u001b[0mmagma_r\u001b[0m\u001b[0;34m)\u001b[0m\u001b[0;34m\u001b[0m\u001b[0m\n\u001b[0m\u001b[1;32m      4\u001b[0m \u001b[0max\u001b[0m \u001b[0;34m=\u001b[0m \u001b[0mplt\u001b[0m\u001b[0;34m.\u001b[0m\u001b[0maxes\u001b[0m\u001b[0;34m(\u001b[0m\u001b[0;34m)\u001b[0m\u001b[0;34m\u001b[0m\u001b[0m\n\u001b[1;32m      5\u001b[0m \u001b[0max\u001b[0m\u001b[0;34m.\u001b[0m\u001b[0mset_frame_on\u001b[0m\u001b[0;34m(\u001b[0m\u001b[0mFalse\u001b[0m\u001b[0;34m)\u001b[0m\u001b[0;34m\u001b[0m\u001b[0m\n",
      "\u001b[0;31mNameError\u001b[0m: name 'df_xtab' is not defined"
     ]
    },
    {
     "data": {
      "text/plain": [
       "<matplotlib.figure.Figure at 0x119474fd0>"
      ]
     },
     "metadata": {},
     "output_type": "display_data"
    }
   ],
   "source": [
    "# based on https://stackoverflow.com/a/16124677\n",
    "plt.figure(figsize=(8.5, 8.5))\n",
    "plt.pcolor(df_xtab, cmap=plt.cm.magma_r)\n",
    "ax = plt.axes()\n",
    "ax.set_frame_on(False)\n",
    "ax.set_yticks(np.arange(df_xtab.shape[0]) + 0.5, minor=False)\n",
    "ax.set_yticklabels(df_xtab.index, minor=False, size=8)\n",
    "ax.set_xticks(np.arange(df_xtab.shape[1]) + 0.5, minor=False)\n",
    "ax.set_xticklabels(df_xtab.columns, minor=False, rotation=90)\n",
    "# flip x-ticks/labels to top\n",
    "ax.invert_yaxis()\n",
    "ax.xaxis.set_ticks_position('top')\n",
    "# set the x/y tick labels\n",
    "ax.grid(True)\n",
    "plt.title('Mentions of presidential surnames in inaugural speeches', y=1.12)\n",
    "plt.tight_layout()\n",
    "# plt.savefig('inaugural_surnames.pdf')"
   ]
  },
  {
   "cell_type": "markdown",
   "metadata": {},
   "source": [
    "# Self mentions in speeches"
   ]
  },
  {
   "cell_type": "code",
   "execution_count": 679,
   "metadata": {
    "collapsed": true
   },
   "outputs": [],
   "source": [
    "pd.options.display.max_rows = 10\n",
    "pd.options.display.max_columns = 10"
   ]
  },
  {
   "cell_type": "code",
   "execution_count": 680,
   "metadata": {
    "collapsed": true
   },
   "outputs": [],
   "source": [
    "def iter_author_texts(speeches):\n",
    "    for speech in speeches:\n",
    "        yield speech['author'], speech['text']"
   ]
  },
  {
   "cell_type": "code",
   "execution_count": 681,
   "metadata": {
    "collapsed": false
   },
   "outputs": [],
   "source": [
    "def iter_author_text(speeches):\n",
    "    keyfunc = lambda (author, text): author\n",
    "    for author, author_texts in itertools.groupby(sorted(iter_author_texts(speeches), key=keyfunc), keyfunc):\n",
    "        yield author, '\\n\\n'.join(text for author, text in author_texts)"
   ]
  },
  {
   "cell_type": "code",
   "execution_count": 682,
   "metadata": {
    "collapsed": true
   },
   "outputs": [],
   "source": [
    "candidates_speeches = [speech for speech in all_tapp_election2016\n",
    "                       if speech['category'] == 'campaign speeches']"
   ]
  },
  {
   "cell_type": "code",
   "execution_count": 683,
   "metadata": {
    "collapsed": false
   },
   "outputs": [],
   "source": [
    "candidates_text = list(iter_author_text(candidates_speeches))"
   ]
  },
  {
   "cell_type": "code",
   "execution_count": 684,
   "metadata": {
    "collapsed": false
   },
   "outputs": [],
   "source": [
    "candidate_fullnames = [fullname for fullname, text in candidates_text]"
   ]
  },
  {
   "cell_type": "code",
   "execution_count": 685,
   "metadata": {
    "collapsed": false
   },
   "outputs": [
    {
     "name": "stdout",
     "output_type": "stream",
     "text": [
      "Candidates: Ben Carson, Bernie Sanders, Bobby Jindal, Carly Fiorina, Chris Christie, Donald J. Trump, George Pataki, Hillary Clinton, Jeb Bush, Jim Webb, John Kasich, Lincoln Chafee, Lindsey Graham, Marco Rubio, Martin O'Malley, Mike Huckabee, Rand Paul, Rick Perry, Rick Santorum, Scott Walker, Ted Cruz\n"
     ]
    }
   ],
   "source": [
    "print 'Candidates:', ', '.join(candidate_fullnames)"
   ]
  },
  {
   "cell_type": "code",
   "execution_count": 691,
   "metadata": {
    "collapsed": false
   },
   "outputs": [],
   "source": [
    "def create_candidate_regex(fullname):\n",
    "    '''\n",
    "    For a fullname like 'Hillary Clinton', matches substrings like:\n",
    "    \n",
    "        Hillary Clinton\n",
    "        Hillary R. Clinton\n",
    "        Hillary Rodham Clinton (and Hillary Almost Clinton)\n",
    "        Clinton\n",
    "        Hillary\n",
    "        \n",
    "    The longer matches come first so that overlapping matches are avoided.\n",
    "    '''\n",
    "    parts = fullname.split()\n",
    "    format_args = dict(firstname=parts[0], lastname=parts[-1])\n",
    "    patterns = [\n",
    "        r'{firstname} {lastname}',\n",
    "        r'{firstname} [A-Z](?:\\.|\\w+) {lastname}',\n",
    "        r'{lastname}',\n",
    "        r'{firstname}',\n",
    "    ]\n",
    "    return re.compile('(' + '|'.join(pattern.format(**format_args) for pattern in patterns) + ')')"
   ]
  },
  {
   "cell_type": "code",
   "execution_count": 695,
   "metadata": {
    "collapsed": false
   },
   "outputs": [],
   "source": [
    "# testing...\n",
    "text = (\n",
    "    \"It is time for Hillary Clinton to be held accountable. \"\n",
    "    \"(44% Clinton and 42% Cruz) who will look into Hillary Clinton's email scandal. \"\n",
    "    \"that's what it takes to dispatch both Trump and Clinton... \"\n",
    "    \"Hillary believes that anyone who \"\n",
    "    \"DonaldTrump against Hillary Clinton,\")\n",
    "clinton_re = create_candidate_regex('Hillary Clinton')\n",
    "assert sum(1 for _ in clinton_re.finditer(text)) == 6, 'Found the wrong number of matches'"
   ]
  },
  {
   "cell_type": "code",
   "execution_count": 696,
   "metadata": {
    "collapsed": true
   },
   "outputs": [],
   "source": [
    "candidates_regexes = [(fullname, create_candidate_regex(fullname)) for fullname in candidate_fullnames]"
   ]
  },
  {
   "cell_type": "code",
   "execution_count": 697,
   "metadata": {
    "collapsed": true
   },
   "outputs": [],
   "source": [
    "def iter_candidates_counts():\n",
    "    '''\n",
    "    For each combination of candidates (including themselves), count how many mentions are in \n",
    "    '''\n",
    "    for speaker_candidate, speaker_candidate_text in candidates_text:\n",
    "        for target_candidate, target_candidate_re in candidates_regexes:\n",
    "            for _ in target_candidate_re.finditer(speaker_candidate_text):\n",
    "                yield dict(speaker=speaker_candidate, target=target_candidate)"
   ]
  },
  {
   "cell_type": "code",
   "execution_count": 698,
   "metadata": {
    "collapsed": false
   },
   "outputs": [],
   "source": [
    "df = pd.DataFrame(iter_candidates_counts())"
   ]
  },
  {
   "cell_type": "code",
   "execution_count": 700,
   "metadata": {
    "collapsed": false
   },
   "outputs": [],
   "source": [
    "df_mentions = df.groupby(['speaker', 'target']).size().to_frame('mentions')\n",
    "df_mentions['log_mentions'] = np.log(df_mentions.mentions)"
   ]
  },
  {
   "cell_type": "code",
   "execution_count": 701,
   "metadata": {
    "collapsed": false
   },
   "outputs": [
    {
     "data": {
      "text/html": [
       "<div>\n",
       "<table border=\"1\" class=\"dataframe\">\n",
       "  <thead>\n",
       "    <tr style=\"text-align: right;\">\n",
       "      <th></th>\n",
       "      <th></th>\n",
       "      <th>mentions</th>\n",
       "      <th>log_mentions</th>\n",
       "    </tr>\n",
       "    <tr>\n",
       "      <th>speaker</th>\n",
       "      <th>target</th>\n",
       "      <th></th>\n",
       "      <th></th>\n",
       "    </tr>\n",
       "  </thead>\n",
       "  <tbody>\n",
       "    <tr>\n",
       "      <th rowspan=\"4\" valign=\"top\">Ben Carson</th>\n",
       "      <th>Ben Carson</th>\n",
       "      <td>5</td>\n",
       "      <td>1.609438</td>\n",
       "    </tr>\n",
       "    <tr>\n",
       "      <th>Chris Christie</th>\n",
       "      <td>2</td>\n",
       "      <td>0.693147</td>\n",
       "    </tr>\n",
       "    <tr>\n",
       "      <th>Donald J. Trump</th>\n",
       "      <td>3</td>\n",
       "      <td>1.098612</td>\n",
       "    </tr>\n",
       "    <tr>\n",
       "      <th>Hillary Clinton</th>\n",
       "      <td>3</td>\n",
       "      <td>1.098612</td>\n",
       "    </tr>\n",
       "    <tr>\n",
       "      <th>Bernie Sanders</th>\n",
       "      <th>Ben Carson</th>\n",
       "      <td>3</td>\n",
       "      <td>1.098612</td>\n",
       "    </tr>\n",
       "    <tr>\n",
       "      <th>...</th>\n",
       "      <th>...</th>\n",
       "      <td>...</td>\n",
       "      <td>...</td>\n",
       "    </tr>\n",
       "    <tr>\n",
       "      <th rowspan=\"5\" valign=\"top\">Ted Cruz</th>\n",
       "      <th>Jim Webb</th>\n",
       "      <td>4</td>\n",
       "      <td>1.386294</td>\n",
       "    </tr>\n",
       "    <tr>\n",
       "      <th>John Kasich</th>\n",
       "      <td>4</td>\n",
       "      <td>1.386294</td>\n",
       "    </tr>\n",
       "    <tr>\n",
       "      <th>Lincoln Chafee</th>\n",
       "      <td>2</td>\n",
       "      <td>0.693147</td>\n",
       "    </tr>\n",
       "    <tr>\n",
       "      <th>Lindsey Graham</th>\n",
       "      <td>1</td>\n",
       "      <td>0.000000</td>\n",
       "    </tr>\n",
       "    <tr>\n",
       "      <th>Ted Cruz</th>\n",
       "      <td>9</td>\n",
       "      <td>2.197225</td>\n",
       "    </tr>\n",
       "  </tbody>\n",
       "</table>\n",
       "<p>187 rows × 2 columns</p>\n",
       "</div>"
      ],
      "text/plain": [
       "                                mentions  log_mentions\n",
       "speaker        target                                 \n",
       "Ben Carson     Ben Carson              5      1.609438\n",
       "               Chris Christie          2      0.693147\n",
       "               Donald J. Trump         3      1.098612\n",
       "               Hillary Clinton         3      1.098612\n",
       "Bernie Sanders Ben Carson              3      1.098612\n",
       "...                                  ...           ...\n",
       "Ted Cruz       Jim Webb                4      1.386294\n",
       "               John Kasich             4      1.386294\n",
       "               Lincoln Chafee          2      0.693147\n",
       "               Lindsey Graham          1      0.000000\n",
       "               Ted Cruz                9      2.197225\n",
       "\n",
       "[187 rows x 2 columns]"
      ]
     },
     "execution_count": 701,
     "metadata": {},
     "output_type": "execute_result"
    }
   ],
   "source": [
    "df_mentions"
   ]
  },
  {
   "cell_type": "code",
   "execution_count": 702,
   "metadata": {
    "collapsed": false,
    "scrolled": false
   },
   "outputs": [
    {
     "data": {
      "text/html": [
       "<div>\n",
       "<table border=\"1\" class=\"dataframe\">\n",
       "  <thead>\n",
       "    <tr style=\"text-align: right;\">\n",
       "      <th>target</th>\n",
       "      <th>Ben Carson</th>\n",
       "      <th>Bernie Sanders</th>\n",
       "      <th>Bobby Jindal</th>\n",
       "      <th>Carly Fiorina</th>\n",
       "      <th>Chris Christie</th>\n",
       "      <th>...</th>\n",
       "      <th>Rand Paul</th>\n",
       "      <th>Rick Perry</th>\n",
       "      <th>Rick Santorum</th>\n",
       "      <th>Scott Walker</th>\n",
       "      <th>Ted Cruz</th>\n",
       "    </tr>\n",
       "    <tr>\n",
       "      <th>speaker</th>\n",
       "      <th></th>\n",
       "      <th></th>\n",
       "      <th></th>\n",
       "      <th></th>\n",
       "      <th></th>\n",
       "      <th></th>\n",
       "      <th></th>\n",
       "      <th></th>\n",
       "      <th></th>\n",
       "      <th></th>\n",
       "      <th></th>\n",
       "    </tr>\n",
       "  </thead>\n",
       "  <tbody>\n",
       "    <tr>\n",
       "      <th>Ben Carson</th>\n",
       "      <td>1.609438</td>\n",
       "      <td>0.000000</td>\n",
       "      <td>0.000000</td>\n",
       "      <td>0.000000</td>\n",
       "      <td>0.693147</td>\n",
       "      <td>...</td>\n",
       "      <td>0.000000</td>\n",
       "      <td>0.000000</td>\n",
       "      <td>0.000000</td>\n",
       "      <td>0.0</td>\n",
       "      <td>0.000000</td>\n",
       "    </tr>\n",
       "    <tr>\n",
       "      <th>Bernie Sanders</th>\n",
       "      <td>1.098612</td>\n",
       "      <td>4.859812</td>\n",
       "      <td>0.000000</td>\n",
       "      <td>0.000000</td>\n",
       "      <td>0.693147</td>\n",
       "      <td>...</td>\n",
       "      <td>1.609438</td>\n",
       "      <td>0.000000</td>\n",
       "      <td>0.000000</td>\n",
       "      <td>0.0</td>\n",
       "      <td>0.693147</td>\n",
       "    </tr>\n",
       "    <tr>\n",
       "      <th>Bobby Jindal</th>\n",
       "      <td>0.000000</td>\n",
       "      <td>0.000000</td>\n",
       "      <td>0.000000</td>\n",
       "      <td>0.000000</td>\n",
       "      <td>0.693147</td>\n",
       "      <td>...</td>\n",
       "      <td>0.000000</td>\n",
       "      <td>0.000000</td>\n",
       "      <td>0.000000</td>\n",
       "      <td>0.0</td>\n",
       "      <td>0.000000</td>\n",
       "    </tr>\n",
       "    <tr>\n",
       "      <th>Carly Fiorina</th>\n",
       "      <td>0.000000</td>\n",
       "      <td>0.000000</td>\n",
       "      <td>0.000000</td>\n",
       "      <td>0.693147</td>\n",
       "      <td>0.000000</td>\n",
       "      <td>...</td>\n",
       "      <td>0.000000</td>\n",
       "      <td>0.000000</td>\n",
       "      <td>0.000000</td>\n",
       "      <td>0.0</td>\n",
       "      <td>0.000000</td>\n",
       "    </tr>\n",
       "    <tr>\n",
       "      <th>Chris Christie</th>\n",
       "      <td>0.000000</td>\n",
       "      <td>0.000000</td>\n",
       "      <td>0.000000</td>\n",
       "      <td>0.000000</td>\n",
       "      <td>2.639057</td>\n",
       "      <td>...</td>\n",
       "      <td>0.000000</td>\n",
       "      <td>0.000000</td>\n",
       "      <td>0.000000</td>\n",
       "      <td>0.0</td>\n",
       "      <td>0.000000</td>\n",
       "    </tr>\n",
       "    <tr>\n",
       "      <th>...</th>\n",
       "      <td>...</td>\n",
       "      <td>...</td>\n",
       "      <td>...</td>\n",
       "      <td>...</td>\n",
       "      <td>...</td>\n",
       "      <td>...</td>\n",
       "      <td>...</td>\n",
       "      <td>...</td>\n",
       "      <td>...</td>\n",
       "      <td>...</td>\n",
       "      <td>...</td>\n",
       "    </tr>\n",
       "    <tr>\n",
       "      <th>Rand Paul</th>\n",
       "      <td>0.000000</td>\n",
       "      <td>0.000000</td>\n",
       "      <td>0.000000</td>\n",
       "      <td>0.000000</td>\n",
       "      <td>1.386294</td>\n",
       "      <td>...</td>\n",
       "      <td>1.791759</td>\n",
       "      <td>0.000000</td>\n",
       "      <td>0.000000</td>\n",
       "      <td>0.0</td>\n",
       "      <td>0.000000</td>\n",
       "    </tr>\n",
       "    <tr>\n",
       "      <th>Rick Perry</th>\n",
       "      <td>0.000000</td>\n",
       "      <td>0.000000</td>\n",
       "      <td>0.693147</td>\n",
       "      <td>0.000000</td>\n",
       "      <td>2.197225</td>\n",
       "      <td>...</td>\n",
       "      <td>0.000000</td>\n",
       "      <td>1.098612</td>\n",
       "      <td>0.000000</td>\n",
       "      <td>0.0</td>\n",
       "      <td>0.693147</td>\n",
       "    </tr>\n",
       "    <tr>\n",
       "      <th>Rick Santorum</th>\n",
       "      <td>0.000000</td>\n",
       "      <td>0.000000</td>\n",
       "      <td>0.000000</td>\n",
       "      <td>0.000000</td>\n",
       "      <td>0.000000</td>\n",
       "      <td>...</td>\n",
       "      <td>1.386294</td>\n",
       "      <td>3.135494</td>\n",
       "      <td>3.332205</td>\n",
       "      <td>0.0</td>\n",
       "      <td>1.386294</td>\n",
       "    </tr>\n",
       "    <tr>\n",
       "      <th>Scott Walker</th>\n",
       "      <td>0.000000</td>\n",
       "      <td>0.000000</td>\n",
       "      <td>0.000000</td>\n",
       "      <td>0.000000</td>\n",
       "      <td>0.000000</td>\n",
       "      <td>...</td>\n",
       "      <td>0.000000</td>\n",
       "      <td>0.000000</td>\n",
       "      <td>0.000000</td>\n",
       "      <td>0.0</td>\n",
       "      <td>0.000000</td>\n",
       "    </tr>\n",
       "    <tr>\n",
       "      <th>Ted Cruz</th>\n",
       "      <td>0.693147</td>\n",
       "      <td>1.098612</td>\n",
       "      <td>0.000000</td>\n",
       "      <td>0.000000</td>\n",
       "      <td>2.484907</td>\n",
       "      <td>...</td>\n",
       "      <td>0.000000</td>\n",
       "      <td>0.000000</td>\n",
       "      <td>0.000000</td>\n",
       "      <td>0.0</td>\n",
       "      <td>2.197225</td>\n",
       "    </tr>\n",
       "  </tbody>\n",
       "</table>\n",
       "<p>21 rows × 21 columns</p>\n",
       "</div>"
      ],
      "text/plain": [
       "target          Ben Carson  Bernie Sanders  Bobby Jindal  Carly Fiorina  \\\n",
       "speaker                                                                   \n",
       "Ben Carson        1.609438        0.000000      0.000000       0.000000   \n",
       "Bernie Sanders    1.098612        4.859812      0.000000       0.000000   \n",
       "Bobby Jindal      0.000000        0.000000      0.000000       0.000000   \n",
       "Carly Fiorina     0.000000        0.000000      0.000000       0.693147   \n",
       "Chris Christie    0.000000        0.000000      0.000000       0.000000   \n",
       "...                    ...             ...           ...            ...   \n",
       "Rand Paul         0.000000        0.000000      0.000000       0.000000   \n",
       "Rick Perry        0.000000        0.000000      0.693147       0.000000   \n",
       "Rick Santorum     0.000000        0.000000      0.000000       0.000000   \n",
       "Scott Walker      0.000000        0.000000      0.000000       0.000000   \n",
       "Ted Cruz          0.693147        1.098612      0.000000       0.000000   \n",
       "\n",
       "target          Chris Christie    ...     Rand Paul  Rick Perry  \\\n",
       "speaker                           ...                             \n",
       "Ben Carson            0.693147    ...      0.000000    0.000000   \n",
       "Bernie Sanders        0.693147    ...      1.609438    0.000000   \n",
       "Bobby Jindal          0.693147    ...      0.000000    0.000000   \n",
       "Carly Fiorina         0.000000    ...      0.000000    0.000000   \n",
       "Chris Christie        2.639057    ...      0.000000    0.000000   \n",
       "...                        ...    ...           ...         ...   \n",
       "Rand Paul             1.386294    ...      1.791759    0.000000   \n",
       "Rick Perry            2.197225    ...      0.000000    1.098612   \n",
       "Rick Santorum         0.000000    ...      1.386294    3.135494   \n",
       "Scott Walker          0.000000    ...      0.000000    0.000000   \n",
       "Ted Cruz              2.484907    ...      0.000000    0.000000   \n",
       "\n",
       "target          Rick Santorum  Scott Walker  Ted Cruz  \n",
       "speaker                                                \n",
       "Ben Carson           0.000000           0.0  0.000000  \n",
       "Bernie Sanders       0.000000           0.0  0.693147  \n",
       "Bobby Jindal         0.000000           0.0  0.000000  \n",
       "Carly Fiorina        0.000000           0.0  0.000000  \n",
       "Chris Christie       0.000000           0.0  0.000000  \n",
       "...                       ...           ...       ...  \n",
       "Rand Paul            0.000000           0.0  0.000000  \n",
       "Rick Perry           0.000000           0.0  0.693147  \n",
       "Rick Santorum        3.332205           0.0  1.386294  \n",
       "Scott Walker         0.000000           0.0  0.000000  \n",
       "Ted Cruz             0.000000           0.0  2.197225  \n",
       "\n",
       "[21 rows x 21 columns]"
      ]
     },
     "execution_count": 702,
     "metadata": {},
     "output_type": "execute_result"
    }
   ],
   "source": [
    "df_xtab = df_mentions.reset_index().pivot(index='speaker', columns='target', values='log_mentions').fillna(0.0)\n",
    "df_xtab"
   ]
  },
  {
   "cell_type": "code",
   "execution_count": 703,
   "metadata": {
    "collapsed": false
   },
   "outputs": [
    {
     "data": {
      "image/png": "[encoded data removed]",
      "text/plain": [
       "<matplotlib.figure.Figure at 0x137b8ee90>"
      ]
     },
     "metadata": {},
     "output_type": "display_data"
    }
   ],
   "source": [
    "fig = plt.figure(figsize=(5.5,5.5))\n",
    "gridcolor = 'lightgray'\n",
    "# norm=mcolors.LogNorm(vmin=0, vmax=df_mentions.mentions.max()), \n",
    "plt.pcolor(df_xtab, cmap=plt.cm.hot_r, edgecolors=gridcolor)\n",
    "ax = plt.axes()\n",
    "# ax.set_frame_on(False)\n",
    "for spine in ax.spines.values():\n",
    "    spine.set_edgecolor(gridcolor)\n",
    "# set up x-axis (speaker)\n",
    "ax.set_yticks(np.arange(df_xtab.shape[0]) + 0.5, minor=False)\n",
    "ax.set_yticklabels(df_xtab.index, minor=False, size=10)\n",
    "ax.set_ylabel(df_xtab.index.name.title())\n",
    "# set up y-axis (target)\n",
    "ax.set_xticks(np.arange(df_xtab.shape[1]) + 0.5, minor=False)\n",
    "ax.set_xticklabels(df_xtab.columns, minor=False, size=10, rotation=90)\n",
    "ax.set_xlabel(df_xtab.columns.name.title())\n",
    "# flip x-ticks/labels to top\n",
    "ax.invert_yaxis()\n",
    "ax.xaxis.set_ticks_position('top')\n",
    "ax.xaxis.set_label_position('top')\n",
    "# set overall titles\n",
    "plt.suptitle(\"Mentions of candidates in other candidates' speeches\", y=1.02)\n",
    "plt.tight_layout()"
   ]
  },
  {
   "cell_type": "markdown",
   "metadata": {},
   "source": [
    "# Trump over time"
   ]
  },
  {
   "cell_type": "code",
   "execution_count": 704,
   "metadata": {
    "collapsed": true
   },
   "outputs": [],
   "source": [
    "pd.options.display.max_rows = 20"
   ]
  },
  {
   "cell_type": "code",
   "execution_count": 113,
   "metadata": {
    "collapsed": true
   },
   "outputs": [],
   "source": [
    "def plot_timeseries(df, values='synset_proportion_smoothed', columns='synset', ax=None):\n",
    "    df_pivot = df.reset_index().pivot_table(values=values, index='timestamp', columns=columns)\n",
    "    ax = df_pivot.plot(kind='line', ax=ax, grid=True)\n",
    "    ax.yaxis.set_major_formatter(ticker.FuncFormatter(lambda y, _: '{:.02%}'.format(y)))\n",
    "    ax.legend(loc='best').set_title(None)\n",
    "    #ax.set_xlabel('Speech date')\n",
    "    ax.set_ylabel('Percentage of content words')\n",
    "    return df_pivot"
   ]
  },
  {
   "cell_type": "code",
   "execution_count": 114,
   "metadata": {
    "collapsed": false
   },
   "outputs": [],
   "source": [
    "focus_synset_names = {\n",
    "    'freedom(s)', 'libert(y/ies)', 'rights', 'public',\n",
    "    #'america(n(s))', 'job(s)',\n",
    "}\n",
    "focus_synsets = [(synset_name, synset_tokens) for synset_name, synset_tokens in synsets\n",
    "                 if synset_name in focus_synset_names]"
   ]
  },
  {
   "cell_type": "code",
   "execution_count": 115,
   "metadata": {
    "collapsed": false
   },
   "outputs": [
    {
     "ename": "KeyError",
     "evalue": "'trump_election2016_speeches'",
     "output_type": "error",
     "traceback": [
      "\u001b[0;31m---------------------------------------------------------------------------\u001b[0m",
      "\u001b[0;31mKeyError\u001b[0m                                  Traceback (most recent call last)",
      "\u001b[0;32m<ipython-input-115-26c1970501a8>\u001b[0m in \u001b[0;36m<module>\u001b[0;34m()\u001b[0m\n\u001b[0;32m----> 1\u001b[0;31m \u001b[0mdf\u001b[0m \u001b[0;34m=\u001b[0m \u001b[0mpd\u001b[0m\u001b[0;34m.\u001b[0m\u001b[0mDataFrame\u001b[0m\u001b[0;34m(\u001b[0m\u001b[0miter_speeches_counts\u001b[0m\u001b[0;34m(\u001b[0m\u001b[0mspeeches\u001b[0m\u001b[0;34m[\u001b[0m\u001b[0;34m'trump_election2016_speeches'\u001b[0m\u001b[0;34m]\u001b[0m\u001b[0;34m,\u001b[0m \u001b[0mfocus_synsets\u001b[0m\u001b[0;34m,\u001b[0m \u001b[0mstandard_stopwords\u001b[0m\u001b[0;34m)\u001b[0m\u001b[0;34m)\u001b[0m\u001b[0;34m.\u001b[0m    \u001b[0msort_values\u001b[0m\u001b[0;34m(\u001b[0m\u001b[0;34m'timestamp'\u001b[0m\u001b[0;34m)\u001b[0m\u001b[0;34m.\u001b[0m\u001b[0mset_index\u001b[0m\u001b[0;34m(\u001b[0m\u001b[0;34m[\u001b[0m\u001b[0;34m'synset'\u001b[0m\u001b[0;34m,\u001b[0m \u001b[0;34m'id'\u001b[0m\u001b[0;34m]\u001b[0m\u001b[0;34m,\u001b[0m \u001b[0mverify_integrity\u001b[0m\u001b[0;34m=\u001b[0m\u001b[0mTrue\u001b[0m\u001b[0;34m)\u001b[0m\u001b[0;34m\u001b[0m\u001b[0m\n\u001b[0m\u001b[1;32m      2\u001b[0m df['synset_proportion_smoothed'] = df.groupby(level='synset', group_keys=False).apply(\n\u001b[1;32m      3\u001b[0m     \u001b[0;32mlambda\u001b[0m \u001b[0mg\u001b[0m\u001b[0;34m:\u001b[0m \u001b[0mg\u001b[0m\u001b[0;34m.\u001b[0m\u001b[0msynset_proportion\u001b[0m\u001b[0;34m.\u001b[0m\u001b[0mrolling\u001b[0m\u001b[0;34m(\u001b[0m\u001b[0;36m10\u001b[0m\u001b[0;34m,\u001b[0m \u001b[0mmin_periods\u001b[0m\u001b[0;34m=\u001b[0m\u001b[0;36m1\u001b[0m\u001b[0;34m,\u001b[0m \u001b[0mcenter\u001b[0m\u001b[0;34m=\u001b[0m\u001b[0mTrue\u001b[0m\u001b[0;34m)\u001b[0m\u001b[0;34m.\u001b[0m\u001b[0mmean\u001b[0m\u001b[0;34m(\u001b[0m\u001b[0;34m)\u001b[0m\u001b[0;34m\u001b[0m\u001b[0m\n\u001b[1;32m      4\u001b[0m )\n",
      "\u001b[0;31mKeyError\u001b[0m: 'trump_election2016_speeches'"
     ]
    }
   ],
   "source": [
    "df = pd.DataFrame(iter_speeches_counts(speeches['trump_election2016_speeches'], focus_synsets, standard_stopwords)).\\\n",
    "    sort_values('timestamp').set_index(['synset', 'id'], verify_integrity=True)\n",
    "df['synset_proportion_smoothed'] = df.groupby(level='synset', group_keys=False).apply(\n",
    "    lambda g: g.synset_proportion.rolling(10, min_periods=1, center=True).mean()\n",
    ")"
   ]
  },
  {
   "cell_type": "code",
   "execution_count": 711,
   "metadata": {
    "collapsed": false
   },
   "outputs": [],
   "source": [
    "daily_speeches = df.reset_index().drop_duplicates(['id']).groupby('timestamp').size()\n",
    "# daily_speeches"
   ]
  },
  {
   "cell_type": "code",
   "execution_count": 712,
   "metadata": {
    "collapsed": false
   },
   "outputs": [
    {
     "data": {
      "text/plain": [
       "<matplotlib.text.Text at 0x135da4c50>"
      ]
     },
     "execution_count": 712,
     "metadata": {},
     "output_type": "execute_result"
    },
    {
     "data": {
      "image/png": "[encoded data removed]",
      "text/plain": [
       "<matplotlib.figure.Figure at 0x136af89d0>"
      ]
     },
     "metadata": {},
     "output_type": "display_data"
    }
   ],
   "source": [
    "fig = plt.figure()#figsize=(12,5))\n",
    "grid = mgridspec.GridSpec(nrows=2, ncols=1, height_ratios=[4, 1])\n",
    "\n",
    "# produce top synsets plot\n",
    "synset_ax = fig.add_subplot(grid[0])\n",
    "synset_ax.tick_params(labelbottom='off')\n",
    "synset_ax.xaxis.label.set_visible(False)\n",
    "plot_timeseries(df, ax=synset_ax)\n",
    "synset_ax.set_title('(smoothed via rolling window over %d speeches at a time)' % smoothing_window, {'fontsize': 12})\n",
    "\n",
    "# produce bottom daily speeches plot\n",
    "daily_ax = fig.add_subplot(grid[1])\n",
    "daily_ax.xaxis.tick_top()\n",
    "# for a bar plot, width=-1, align='edge' is like width=1, align='right' except 'right' isn't a valid align value\n",
    "daily_ax.bar(timestamp_counts.index, timestamp_counts.values, width=-1, align='edge') # width is in days?\n",
    "daily_ax.set_ylabel('Number of\\nspeeches\\nper day')\n",
    "\n",
    "# trim axes the same\n",
    "min_x = pd.to_datetime('2016-06-01')\n",
    "max_x = pd.to_datetime('2016-11-09')\n",
    "synset_ax.set_xlim(min_x, max_x)\n",
    "daily_ax.set_xlim(min_x, max_x)\n",
    "daily_ax.set_ylim(None, 2)\n",
    "\n",
    "plt.suptitle('Proportion of content words President Trump used in speeches throughout his campaign')\n",
    "# fig.tight_layout()"
   ]
  },
  {
   "cell_type": "markdown",
   "metadata": {},
   "source": [
    "# Significant others"
   ]
  },
  {
   "cell_type": "code",
   "execution_count": 40,
   "metadata": {
    "collapsed": true
   },
   "outputs": [],
   "source": [
    "pd.options.display.max_columns = 10\n",
    "pd.options.display.max_rows = 10"
   ]
  },
  {
   "cell_type": "code",
   "execution_count": 41,
   "metadata": {
    "collapsed": false
   },
   "outputs": [],
   "source": [
    "def set_proportion(df):\n",
    "    '''\n",
    "    This seems ugly as the argument to pd.GroupedDataSeries.apply(), but it works\n",
    "    '''\n",
    "    df['proportion'] = df['word_count'] / np.sum(df['word_count'])\n",
    "    return df"
   ]
  },
  {
   "cell_type": "code",
   "execution_count": 43,
   "metadata": {
    "collapsed": false
   },
   "outputs": [
    {
     "name": "stdout",
     "output_type": "stream",
     "text": [
      "|inaugural_counts| = 58029\n",
      "|trump_counts| = 622\n"
     ]
    }
   ],
   "source": [
    "groups = [\n",
    "    ('inaugural', speeches_counts['inaugurals_pretrump']),\n",
    "    ('trump', speeches_counts['trump_inaugurals']),\n",
    "]\n",
    "for group_name, group_counts in groups:\n",
    "    print '|{:}_counts| = {:d}'.format(group_name, sum(group_counts.values()))"
   ]
  },
  {
   "cell_type": "code",
   "execution_count": 44,
   "metadata": {
    "collapsed": false
   },
   "outputs": [
    {
     "name": "stdout",
     "output_type": "stream",
     "text": [
      "|full_vocab| = 8975\n"
     ]
    }
   ],
   "source": [
    "full_vocab = set([token for _, counts in groups for token in counts.keys()])\n",
    "print '|full_vocab| =', len(full_vocab)"
   ]
  },
  {
   "cell_type": "code",
   "execution_count": 45,
   "metadata": {
    "collapsed": true
   },
   "outputs": [],
   "source": [
    "k = 500\n",
    "smoothing = 1.0"
   ]
  },
  {
   "cell_type": "code",
   "execution_count": 48,
   "metadata": {
    "collapsed": false,
    "scrolled": false
   },
   "outputs": [],
   "source": [
    "df_counts = pd.DataFrame.from_dict(iter_group_counts(groups, full_vocab, smoothing)).\\\n",
    "    groupby('group').apply(set_proportion)\n",
    "# df_counts[df_counts.proportion > 0.0005]\n",
    "# df_counts"
   ]
  },
  {
   "cell_type": "code",
   "execution_count": 49,
   "metadata": {
    "collapsed": false
   },
   "outputs": [],
   "source": [
    "# derive more condensed vocabulary\n",
    "df_proportions_merged = df_counts.groupby('word').agg({'proportion': np.mean})\n",
    "# df_proportions_merged.sort_values('proportion', ascending=False)"
   ]
  },
  {
   "cell_type": "code",
   "execution_count": 50,
   "metadata": {
    "collapsed": false
   },
   "outputs": [
    {
     "name": "stdout",
     "output_type": "stream",
     "text": [
      "|vocab| = 500\n"
     ]
    }
   ],
   "source": [
    "vocab = set(df_proportions_merged.nlargest(k, 'proportion').index)\n",
    "print '|vocab| =', len(vocab)"
   ]
  },
  {
   "cell_type": "code",
   "execution_count": 51,
   "metadata": {
    "collapsed": false
   },
   "outputs": [],
   "source": [
    "# print ' '.join(vocab)"
   ]
  },
  {
   "cell_type": "code",
   "execution_count": 999,
   "metadata": {
    "collapsed": false
   },
   "outputs": [],
   "source": [
    "# could take a second depending on how rare the vocab is\n",
    "# vocab_1t_frequencies = dict(google_1t_frequencies(vocab))"
   ]
  },
  {
   "cell_type": "code",
   "execution_count": 54,
   "metadata": {
    "collapsed": false
   },
   "outputs": [],
   "source": [
    "# recount with condensed vocab\n",
    "# df_counts = pd.DataFrame.from_dict(iter_group_counts(groups, vocab, smoothing)).\\\n",
    "#     groupby('group').apply(set_proportion)\n",
    "# df_counts.sort_values('proportion', ascending=False)"
   ]
  },
  {
   "cell_type": "code",
   "execution_count": 55,
   "metadata": {
    "collapsed": false
   },
   "outputs": [],
   "source": [
    "# trump_counts = df_counts[df_counts.group=='trump']\n",
    "# trump_counts.sort_values('proportion', ascending=False).reset_index(drop=True)\n",
    "# trump_counts_reordered = trump_counts.sort_values('proportion', ascending=False).reset_index(drop=True)\n",
    "# trump_counts_reordered[trump_counts_reordered.word=='donald']"
   ]
  },
  {
   "cell_type": "code",
   "execution_count": 56,
   "metadata": {
    "collapsed": false,
    "scrolled": false
   },
   "outputs": [],
   "source": [
    "# inaugural_counts = df_counts[df_counts.group=='inaugural']\n",
    "# inaugural_counts = inaugural_counts.sort_values('proportion', ascending=False).reset_index(drop=True)\n",
    "# pd.options.display.max_rows = 100\n",
    "# inaugural_counts"
   ]
  },
  {
   "cell_type": "markdown",
   "metadata": {},
   "source": [
    "### Oh boy word clouds"
   ]
  },
  {
   "cell_type": "code",
   "execution_count": 59,
   "metadata": {
    "collapsed": false
   },
   "outputs": [],
   "source": [
    "def display_frequencies_wordcloud(frequencies):\n",
    "    #wordCloud = WordCloud(max_font_size=40)\n",
    "    wordCloud = WordCloud()\n",
    "    wordCloud_generated = wordCloud.generate_from_frequencies(frequencies)\n",
    "    plt.imshow(wordCloud_generated)\n",
    "    plt.axis('off')"
   ]
  },
  {
   "cell_type": "code",
   "execution_count": 61,
   "metadata": {
    "collapsed": false
   },
   "outputs": [],
   "source": [
    "# for group, group_df in df_counts.groupby('group'):\n",
    "#     plt.figure(figsize=(8.5, 4))\n",
    "#     display_frequencies_wordcloud(zip(group_df.word, group_df.proportion))    \n",
    "#     plt.title(group)"
   ]
  },
  {
   "cell_type": "markdown",
   "metadata": {},
   "source": [
    "### Back to business\n",
    "\n",
    "That's nice to look at, but we also want some consistent ordering of relative inaugural-ness vs. Trumpery.\n",
    "\n",
    "We can get that just by dividing one over the other. We'll use Trump proportion / Inaugural proportion, so higher values will indicate higher Trumpery."
   ]
  },
  {
   "cell_type": "code",
   "execution_count": 62,
   "metadata": {
    "collapsed": false
   },
   "outputs": [],
   "source": [
    "df_proportions = df_counts.pivot(index='word', columns='group', values='proportion')\n",
    "df_proportions['trump/inaugural'] = df_proportions.trump / df_proportions.inaugural"
   ]
  },
  {
   "cell_type": "markdown",
   "metadata": {},
   "source": [
    "The ratio produces the desired ordering, but it ranges from very tiny values,\n",
    "to 1 (meaning similar usage), to arbitrarily large values.\n",
    "\n",
    "As we'll seen in a second with the (log-log) scatter plot, what we want is a sort of radial / angular measure.\n",
    "The words around the y=x diagonal see similar usage, with the words in the upper-left being more Trump-ish and the words in the lower-right being more Inaugural.\n",
    "Yay trigonometry!"
   ]
  },
  {
   "cell_type": "code",
   "execution_count": 63,
   "metadata": {
    "collapsed": false
   },
   "outputs": [],
   "source": [
    "#rad = np.arctan(df_proportions['trump/inaugural'])\n",
    "rad = np.arctan2(df_proportions.trump, df_proportions.inaugural)\n",
    "# re-map from [0, pi/2] to [-1, 1]\n",
    "df_proportions[u'trump°inaugural'] = rad * (4.0 / np.pi) + -1.0"
   ]
  },
  {
   "cell_type": "code",
   "execution_count": 64,
   "metadata": {
    "collapsed": true
   },
   "outputs": [],
   "source": [
    "df_proportions = df_proportions.sort_values(u'trump°inaugural')"
   ]
  },
  {
   "cell_type": "code",
   "execution_count": 65,
   "metadata": {
    "collapsed": false
   },
   "outputs": [],
   "source": [
    "# df_proportions['google_1t'] = df_proportions.index.map(lambda k: vocab_1t_frequencies.get(k, 1))"
   ]
  },
  {
   "cell_type": "code",
   "execution_count": 67,
   "metadata": {
    "collapsed": false
   },
   "outputs": [],
   "source": [
    "# plt.figure(figsize=(8.5, 8.5))\n",
    "# x = df_proportions['inaugural']\n",
    "# plt.xscale('log')\n",
    "# # plt.xlabel('global frequency of word (based on Google 1T unigrams)')\n",
    "# plt.xlabel('inaugural-ness')\n",
    "# y = df_proportions['trump']\n",
    "# plt.yscale('log')\n",
    "# # plt.ylabel(u'relative\\n<- inauguralness or Trumpery ->')\n",
    "# plt.ylabel('trumpery')\n",
    "# # points\n",
    "# plt.scatter(x, y, c=df_proportions[u'trump°inaugural'], cmap=plt.cm.BrBG, linewidths=0, s=50)\n",
    "# annotations = []\n",
    "# for label, x, y in zip(df_proportions.index, x, y):\n",
    "#     annotation = plt.annotate(label, xy=(x, y), xytext=(2, 2),\n",
    "#                  size='large',\n",
    "#                  textcoords='offset points', ha='left', va='bottom')\n",
    "#     annotations.append(annotation)\n",
    "# adjust_text(annotations, force_text=0.08, arrowprops=dict(arrowstyle=\"-|>\", color='k', alpha=0.33))    \n",
    "# plt.tight_layout()"
   ]
  },
  {
   "cell_type": "markdown",
   "metadata": {},
   "source": [
    "That's neat, but kind of a mess. More directly, we can look at the actual ranking."
   ]
  },
  {
   "cell_type": "code",
   "execution_count": 69,
   "metadata": {
    "collapsed": false,
    "scrolled": false
   },
   "outputs": [
    {
     "data": {
      "text/html": [
       "<div>\n",
       "<table border=\"1\" class=\"dataframe\">\n",
       "  <thead>\n",
       "    <tr style=\"text-align: right;\">\n",
       "      <th>group</th>\n",
       "      <th>inaugural</th>\n",
       "      <th>trump</th>\n",
       "      <th>trump/inaugural</th>\n",
       "      <th>trump°inaugural</th>\n",
       "    </tr>\n",
       "    <tr>\n",
       "      <th>word</th>\n",
       "      <th></th>\n",
       "      <th></th>\n",
       "      <th></th>\n",
       "      <th></th>\n",
       "    </tr>\n",
       "  </thead>\n",
       "  <tbody>\n",
       "    <tr>\n",
       "      <th>peace</th>\n",
       "      <td>0.009134</td>\n",
       "      <td>0.001181</td>\n",
       "      <td>0.129257</td>\n",
       "      <td>-0.836333</td>\n",
       "    </tr>\n",
       "    <tr>\n",
       "      <th>constitution</th>\n",
       "      <td>0.007493</td>\n",
       "      <td>0.001181</td>\n",
       "      <td>0.157570</td>\n",
       "      <td>-0.801012</td>\n",
       "    </tr>\n",
       "    <tr>\n",
       "      <th>freedom</th>\n",
       "      <td>0.006815</td>\n",
       "      <td>0.001181</td>\n",
       "      <td>0.173245</td>\n",
       "      <td>-0.781586</td>\n",
       "    </tr>\n",
       "    <tr>\n",
       "      <th>union</th>\n",
       "      <td>0.006743</td>\n",
       "      <td>0.001181</td>\n",
       "      <td>0.175078</td>\n",
       "      <td>-0.779320</td>\n",
       "    </tr>\n",
       "    <tr>\n",
       "      <th>war</th>\n",
       "      <td>0.006387</td>\n",
       "      <td>0.001181</td>\n",
       "      <td>0.184859</td>\n",
       "      <td>-0.767258</td>\n",
       "    </tr>\n",
       "    <tr>\n",
       "      <th>...</th>\n",
       "      <td>...</td>\n",
       "      <td>...</td>\n",
       "      <td>...</td>\n",
       "      <td>...</td>\n",
       "    </tr>\n",
       "    <tr>\n",
       "      <th>dreams</th>\n",
       "      <td>0.000535</td>\n",
       "      <td>0.007084</td>\n",
       "      <td>13.235891</td>\n",
       "      <td>0.903986</td>\n",
       "    </tr>\n",
       "    <tr>\n",
       "      <th>factories</th>\n",
       "      <td>0.000250</td>\n",
       "      <td>0.004723</td>\n",
       "      <td>18.908416</td>\n",
       "      <td>0.932725</td>\n",
       "    </tr>\n",
       "    <tr>\n",
       "      <th>borders</th>\n",
       "      <td>0.000250</td>\n",
       "      <td>0.004723</td>\n",
       "      <td>18.908416</td>\n",
       "      <td>0.932725</td>\n",
       "    </tr>\n",
       "    <tr>\n",
       "      <th>jobs</th>\n",
       "      <td>0.000285</td>\n",
       "      <td>0.005903</td>\n",
       "      <td>20.681080</td>\n",
       "      <td>0.938482</td>\n",
       "    </tr>\n",
       "    <tr>\n",
       "      <th>everyone</th>\n",
       "      <td>0.000285</td>\n",
       "      <td>0.005903</td>\n",
       "      <td>20.681080</td>\n",
       "      <td>0.938482</td>\n",
       "    </tr>\n",
       "  </tbody>\n",
       "</table>\n",
       "<p>500 rows × 4 columns</p>\n",
       "</div>"
      ],
      "text/plain": [
       "group         inaugural     trump  trump/inaugural  trump°inaugural\n",
       "word                                                               \n",
       "peace          0.009134  0.001181         0.129257        -0.836333\n",
       "constitution   0.007493  0.001181         0.157570        -0.801012\n",
       "freedom        0.006815  0.001181         0.173245        -0.781586\n",
       "union          0.006743  0.001181         0.175078        -0.779320\n",
       "war            0.006387  0.001181         0.184859        -0.767258\n",
       "...                 ...       ...              ...              ...\n",
       "dreams         0.000535  0.007084        13.235891         0.903986\n",
       "factories      0.000250  0.004723        18.908416         0.932725\n",
       "borders        0.000250  0.004723        18.908416         0.932725\n",
       "jobs           0.000285  0.005903        20.681080         0.938482\n",
       "everyone       0.000285  0.005903        20.681080         0.938482\n",
       "\n",
       "[500 rows x 4 columns]"
      ]
     },
     "execution_count": 69,
     "metadata": {},
     "output_type": "execute_result"
    }
   ],
   "source": [
    "pd.options.display.max_rows = 10\n",
    "df_proportions"
   ]
  },
  {
   "cell_type": "markdown",
   "metadata": {},
   "source": [
    "Still, it's a lot of numbers. Let's discretize."
   ]
  },
  {
   "cell_type": "markdown",
   "metadata": {},
   "source": [
    "### Categories of trumpiness \n",
    "\n",
    "Having an ordering on the words means we can bin the words in discrete chunks.\n",
    "\n",
    "The `trump/inaugural` ratio is monotonic with the `trump°inaugural` column, but since the latter has a nicer scale, we'll use it."
   ]
  },
  {
   "cell_type": "code",
   "execution_count": 70,
   "metadata": {
    "collapsed": false
   },
   "outputs": [],
   "source": [
    "# equal bin widths:\n",
    "# _, binedges = np.histogram(df_proportions[u'trump°inaugural'], bins=7)\n",
    "# equal bin depths:\n",
    "binedges = np.percentile(df_proportions[u'trump°inaugural'], np.linspace(0, 100, 8))"
   ]
  },
  {
   "cell_type": "code",
   "execution_count": 71,
   "metadata": {
    "collapsed": false
   },
   "outputs": [],
   "source": [
    "binnames = ['Most presidential', '2nd-most presidential', '3rd-most presidential',\n",
    "            'Neutral', \n",
    "            '3rd-most Trumpy', '2nd-most Trumpy', 'Most Trumpy']\n",
    "assignments = np.digitize(df_proportions[u'trump°inaugural'], binedges[:-1]) - 1\n",
    "df_proportions['trumpiness'] = np.array(binnames)[assignments]"
   ]
  },
  {
   "cell_type": "code",
   "execution_count": 72,
   "metadata": {
    "collapsed": false
   },
   "outputs": [],
   "source": [
    "trumpiness_bins = [(name, pd.Series(list(group_df.sort_values(u'trump°inaugural', ascending=True).word)))\n",
    "                   for name, group_df in df_proportions.reset_index().groupby('trumpiness')]\n",
    "df_bins = pd.DataFrame(dict(trumpiness_bins)).fillna('')\n",
    "df_bins = df_bins[binnames]"
   ]
  },
  {
   "cell_type": "code",
   "execution_count": 73,
   "metadata": {
    "collapsed": false
   },
   "outputs": [],
   "source": [
    "pd.options.display.max_rows = 40\n",
    "# df_bins"
   ]
  },
  {
   "cell_type": "markdown",
   "metadata": {
    "collapsed": true
   },
   "source": [
    "# Focus\n",
    "\n",
    "How about we focus in on a couple specific words."
   ]
  },
  {
   "cell_type": "code",
   "execution_count": 76,
   "metadata": {
    "collapsed": false,
    "scrolled": false
   },
   "outputs": [],
   "source": [
    "# pd.options.display.max_rows = 200\n",
    "# df_proportions.sort_values(u'trump°inaugural')"
   ]
  },
  {
   "cell_type": "code",
   "execution_count": 77,
   "metadata": {
    "collapsed": true
   },
   "outputs": [],
   "source": [
    "df_proportions_sorted = df_proportions.sort_values(u'trump°inaugural')"
   ]
  },
  {
   "cell_type": "code",
   "execution_count": 78,
   "metadata": {
    "collapsed": false
   },
   "outputs": [
    {
     "data": {
      "text/html": [
       "<div>\n",
       "<table border=\"1\" class=\"dataframe\">\n",
       "  <thead>\n",
       "    <tr style=\"text-align: right;\">\n",
       "      <th>group</th>\n",
       "      <th>inaugural</th>\n",
       "      <th>trump</th>\n",
       "      <th>trump/inaugural</th>\n",
       "      <th>trump°inaugural</th>\n",
       "      <th>trumpiness</th>\n",
       "    </tr>\n",
       "    <tr>\n",
       "      <th>word</th>\n",
       "      <th></th>\n",
       "      <th></th>\n",
       "      <th></th>\n",
       "      <th></th>\n",
       "      <th></th>\n",
       "    </tr>\n",
       "  </thead>\n",
       "  <tbody>\n",
       "    <tr>\n",
       "      <th>peace</th>\n",
       "      <td>0.009134</td>\n",
       "      <td>0.001181</td>\n",
       "      <td>0.129257</td>\n",
       "      <td>-0.836333</td>\n",
       "      <td>Most presidential</td>\n",
       "    </tr>\n",
       "    <tr>\n",
       "      <th>constitution</th>\n",
       "      <td>0.007493</td>\n",
       "      <td>0.001181</td>\n",
       "      <td>0.157570</td>\n",
       "      <td>-0.801012</td>\n",
       "      <td>Most presidential</td>\n",
       "    </tr>\n",
       "    <tr>\n",
       "      <th>freedom</th>\n",
       "      <td>0.006815</td>\n",
       "      <td>0.001181</td>\n",
       "      <td>0.173245</td>\n",
       "      <td>-0.781586</td>\n",
       "      <td>Most presidential</td>\n",
       "    </tr>\n",
       "    <tr>\n",
       "      <th>union</th>\n",
       "      <td>0.006743</td>\n",
       "      <td>0.001181</td>\n",
       "      <td>0.175078</td>\n",
       "      <td>-0.779320</td>\n",
       "      <td>Most presidential</td>\n",
       "    </tr>\n",
       "    <tr>\n",
       "      <th>war</th>\n",
       "      <td>0.006387</td>\n",
       "      <td>0.001181</td>\n",
       "      <td>0.184859</td>\n",
       "      <td>-0.767258</td>\n",
       "      <td>Most presidential</td>\n",
       "    </tr>\n",
       "    <tr>\n",
       "      <th>government</th>\n",
       "      <td>0.021515</td>\n",
       "      <td>0.004723</td>\n",
       "      <td>0.219501</td>\n",
       "      <td>-0.724886</td>\n",
       "      <td>Most presidential</td>\n",
       "    </tr>\n",
       "    <tr>\n",
       "      <th>rights</th>\n",
       "      <td>0.004960</td>\n",
       "      <td>0.001181</td>\n",
       "      <td>0.238056</td>\n",
       "      <td>-0.702437</td>\n",
       "      <td>Most presidential</td>\n",
       "    </tr>\n",
       "    <tr>\n",
       "      <th>laws</th>\n",
       "      <td>0.004745</td>\n",
       "      <td>0.001181</td>\n",
       "      <td>0.248795</td>\n",
       "      <td>-0.689528</td>\n",
       "      <td>Most presidential</td>\n",
       "    </tr>\n",
       "    <tr>\n",
       "      <th>congress</th>\n",
       "      <td>0.004674</td>\n",
       "      <td>0.001181</td>\n",
       "      <td>0.252593</td>\n",
       "      <td>-0.684978</td>\n",
       "      <td>Most presidential</td>\n",
       "    </tr>\n",
       "    <tr>\n",
       "      <th>justice</th>\n",
       "      <td>0.004460</td>\n",
       "      <td>0.001181</td>\n",
       "      <td>0.264718</td>\n",
       "      <td>-0.670508</td>\n",
       "      <td>Most presidential</td>\n",
       "    </tr>\n",
       "    <tr>\n",
       "      <th>liberty</th>\n",
       "      <td>0.004353</td>\n",
       "      <td>0.001181</td>\n",
       "      <td>0.271227</td>\n",
       "      <td>-0.662776</td>\n",
       "      <td>Most presidential</td>\n",
       "    </tr>\n",
       "    <tr>\n",
       "      <th>best</th>\n",
       "      <td>0.004353</td>\n",
       "      <td>0.001181</td>\n",
       "      <td>0.271227</td>\n",
       "      <td>-0.662776</td>\n",
       "      <td>Most presidential</td>\n",
       "    </tr>\n",
       "    <tr>\n",
       "      <th>duty</th>\n",
       "      <td>0.004246</td>\n",
       "      <td>0.001181</td>\n",
       "      <td>0.278065</td>\n",
       "      <td>-0.654680</td>\n",
       "      <td>Most presidential</td>\n",
       "    </tr>\n",
       "    <tr>\n",
       "      <th>hope</th>\n",
       "      <td>0.004210</td>\n",
       "      <td>0.001181</td>\n",
       "      <td>0.280421</td>\n",
       "      <td>-0.651897</td>\n",
       "      <td>Most presidential</td>\n",
       "    </tr>\n",
       "    <tr>\n",
       "      <th>public</th>\n",
       "      <td>0.008135</td>\n",
       "      <td>0.002361</td>\n",
       "      <td>0.290261</td>\n",
       "      <td>-0.640312</td>\n",
       "      <td>Most presidential</td>\n",
       "    </tr>\n",
       "    <tr>\n",
       "      <th>states</th>\n",
       "      <td>0.012024</td>\n",
       "      <td>0.003542</td>\n",
       "      <td>0.294567</td>\n",
       "      <td>-0.635261</td>\n",
       "      <td>Most presidential</td>\n",
       "    </tr>\n",
       "    <tr>\n",
       "      <th>state</th>\n",
       "      <td>0.003925</td>\n",
       "      <td>0.001181</td>\n",
       "      <td>0.300816</td>\n",
       "      <td>-0.627953</td>\n",
       "      <td>Most presidential</td>\n",
       "    </tr>\n",
       "    <tr>\n",
       "      <th>political</th>\n",
       "      <td>0.003818</td>\n",
       "      <td>0.001181</td>\n",
       "      <td>0.309250</td>\n",
       "      <td>-0.618129</td>\n",
       "      <td>Most presidential</td>\n",
       "    </tr>\n",
       "    <tr>\n",
       "      <th>know</th>\n",
       "      <td>0.003711</td>\n",
       "      <td>0.001181</td>\n",
       "      <td>0.318170</td>\n",
       "      <td>-0.607788</td>\n",
       "      <td>Most presidential</td>\n",
       "    </tr>\n",
       "    <tr>\n",
       "      <th>man</th>\n",
       "      <td>0.003675</td>\n",
       "      <td>0.001181</td>\n",
       "      <td>0.321259</td>\n",
       "      <td>-0.604220</td>\n",
       "      <td>Most presidential</td>\n",
       "    </tr>\n",
       "    <tr>\n",
       "      <th>...</th>\n",
       "      <td>...</td>\n",
       "      <td>...</td>\n",
       "      <td>...</td>\n",
       "      <td>...</td>\n",
       "      <td>...</td>\n",
       "    </tr>\n",
       "    <tr>\n",
       "      <th>longer</th>\n",
       "      <td>0.000892</td>\n",
       "      <td>0.003542</td>\n",
       "      <td>3.970767</td>\n",
       "      <td>0.685879</td>\n",
       "      <td>Most Trumpy</td>\n",
       "    </tr>\n",
       "    <tr>\n",
       "      <th>heart</th>\n",
       "      <td>0.001392</td>\n",
       "      <td>0.005903</td>\n",
       "      <td>4.242273</td>\n",
       "      <td>0.705249</td>\n",
       "      <td>Most Trumpy</td>\n",
       "    </tr>\n",
       "    <tr>\n",
       "      <th>safe</th>\n",
       "      <td>0.000821</td>\n",
       "      <td>0.003542</td>\n",
       "      <td>4.316052</td>\n",
       "      <td>0.710114</td>\n",
       "      <td>Most Trumpy</td>\n",
       "    </tr>\n",
       "    <tr>\n",
       "      <th>thank</th>\n",
       "      <td>0.000821</td>\n",
       "      <td>0.003542</td>\n",
       "      <td>4.316052</td>\n",
       "      <td>0.710114</td>\n",
       "      <td>Most Trumpy</td>\n",
       "    </tr>\n",
       "    <tr>\n",
       "      <th>washington</th>\n",
       "      <td>0.000821</td>\n",
       "      <td>0.003542</td>\n",
       "      <td>4.316052</td>\n",
       "      <td>0.710114</td>\n",
       "      <td>Most Trumpy</td>\n",
       "    </tr>\n",
       "    <tr>\n",
       "      <th>wealth</th>\n",
       "      <td>0.001213</td>\n",
       "      <td>0.005903</td>\n",
       "      <td>4.866137</td>\n",
       "      <td>0.741940</td>\n",
       "      <td>Most Trumpy</td>\n",
       "    </tr>\n",
       "    <tr>\n",
       "      <th>bless</th>\n",
       "      <td>0.000678</td>\n",
       "      <td>0.003542</td>\n",
       "      <td>5.224694</td>\n",
       "      <td>0.759216</td>\n",
       "      <td>Most Trumpy</td>\n",
       "    </tr>\n",
       "    <tr>\n",
       "      <th>follow</th>\n",
       "      <td>0.000678</td>\n",
       "      <td>0.003542</td>\n",
       "      <td>5.224694</td>\n",
       "      <td>0.759216</td>\n",
       "      <td>Most Trumpy</td>\n",
       "    </tr>\n",
       "    <tr>\n",
       "      <th>left</th>\n",
       "      <td>0.000892</td>\n",
       "      <td>0.004723</td>\n",
       "      <td>5.294357</td>\n",
       "      <td>0.762310</td>\n",
       "      <td>Most Trumpy</td>\n",
       "    </tr>\n",
       "    <tr>\n",
       "      <th>capital</th>\n",
       "      <td>0.000892</td>\n",
       "      <td>0.004723</td>\n",
       "      <td>5.294357</td>\n",
       "      <td>0.762310</td>\n",
       "      <td>Most Trumpy</td>\n",
       "    </tr>\n",
       "    <tr>\n",
       "      <th>ocean</th>\n",
       "      <td>0.000571</td>\n",
       "      <td>0.003542</td>\n",
       "      <td>6.204324</td>\n",
       "      <td>0.796532</td>\n",
       "      <td>Most Trumpy</td>\n",
       "    </tr>\n",
       "    <tr>\n",
       "      <th>exists</th>\n",
       "      <td>0.000535</td>\n",
       "      <td>0.003542</td>\n",
       "      <td>6.617946</td>\n",
       "      <td>0.809053</td>\n",
       "      <td>Most Trumpy</td>\n",
       "    </tr>\n",
       "    <tr>\n",
       "      <th>belongs</th>\n",
       "      <td>0.000500</td>\n",
       "      <td>0.003542</td>\n",
       "      <td>7.090656</td>\n",
       "      <td>0.821611</td>\n",
       "      <td>Most Trumpy</td>\n",
       "    </tr>\n",
       "    <tr>\n",
       "      <th>families</th>\n",
       "      <td>0.000500</td>\n",
       "      <td>0.004723</td>\n",
       "      <td>9.454208</td>\n",
       "      <td>0.865825</td>\n",
       "      <td>Most Trumpy</td>\n",
       "    </tr>\n",
       "    <tr>\n",
       "      <th>protected</th>\n",
       "      <td>0.000678</td>\n",
       "      <td>0.007084</td>\n",
       "      <td>10.449388</td>\n",
       "      <td>0.878522</td>\n",
       "      <td>Most Trumpy</td>\n",
       "    </tr>\n",
       "    <tr>\n",
       "      <th>dreams</th>\n",
       "      <td>0.000535</td>\n",
       "      <td>0.007084</td>\n",
       "      <td>13.235891</td>\n",
       "      <td>0.903986</td>\n",
       "      <td>Most Trumpy</td>\n",
       "    </tr>\n",
       "    <tr>\n",
       "      <th>factories</th>\n",
       "      <td>0.000250</td>\n",
       "      <td>0.004723</td>\n",
       "      <td>18.908416</td>\n",
       "      <td>0.932725</td>\n",
       "      <td>Most Trumpy</td>\n",
       "    </tr>\n",
       "    <tr>\n",
       "      <th>borders</th>\n",
       "      <td>0.000250</td>\n",
       "      <td>0.004723</td>\n",
       "      <td>18.908416</td>\n",
       "      <td>0.932725</td>\n",
       "      <td>Most Trumpy</td>\n",
       "    </tr>\n",
       "    <tr>\n",
       "      <th>jobs</th>\n",
       "      <td>0.000285</td>\n",
       "      <td>0.005903</td>\n",
       "      <td>20.681080</td>\n",
       "      <td>0.938482</td>\n",
       "      <td>Most Trumpy</td>\n",
       "    </tr>\n",
       "    <tr>\n",
       "      <th>everyone</th>\n",
       "      <td>0.000285</td>\n",
       "      <td>0.005903</td>\n",
       "      <td>20.681080</td>\n",
       "      <td>0.938482</td>\n",
       "      <td>Most Trumpy</td>\n",
       "    </tr>\n",
       "  </tbody>\n",
       "</table>\n",
       "<p>500 rows × 5 columns</p>\n",
       "</div>"
      ],
      "text/plain": [
       "group         inaugural     trump  trump/inaugural  trump°inaugural  \\\n",
       "word                                                                  \n",
       "peace          0.009134  0.001181         0.129257        -0.836333   \n",
       "constitution   0.007493  0.001181         0.157570        -0.801012   \n",
       "freedom        0.006815  0.001181         0.173245        -0.781586   \n",
       "union          0.006743  0.001181         0.175078        -0.779320   \n",
       "war            0.006387  0.001181         0.184859        -0.767258   \n",
       "government     0.021515  0.004723         0.219501        -0.724886   \n",
       "rights         0.004960  0.001181         0.238056        -0.702437   \n",
       "laws           0.004745  0.001181         0.248795        -0.689528   \n",
       "congress       0.004674  0.001181         0.252593        -0.684978   \n",
       "justice        0.004460  0.001181         0.264718        -0.670508   \n",
       "liberty        0.004353  0.001181         0.271227        -0.662776   \n",
       "best           0.004353  0.001181         0.271227        -0.662776   \n",
       "duty           0.004246  0.001181         0.278065        -0.654680   \n",
       "hope           0.004210  0.001181         0.280421        -0.651897   \n",
       "public         0.008135  0.002361         0.290261        -0.640312   \n",
       "states         0.012024  0.003542         0.294567        -0.635261   \n",
       "state          0.003925  0.001181         0.300816        -0.627953   \n",
       "political      0.003818  0.001181         0.309250        -0.618129   \n",
       "know           0.003711  0.001181         0.318170        -0.607788   \n",
       "man            0.003675  0.001181         0.321259        -0.604220   \n",
       "...                 ...       ...              ...              ...   \n",
       "longer         0.000892  0.003542         3.970767         0.685879   \n",
       "heart          0.001392  0.005903         4.242273         0.705249   \n",
       "safe           0.000821  0.003542         4.316052         0.710114   \n",
       "thank          0.000821  0.003542         4.316052         0.710114   \n",
       "washington     0.000821  0.003542         4.316052         0.710114   \n",
       "wealth         0.001213  0.005903         4.866137         0.741940   \n",
       "bless          0.000678  0.003542         5.224694         0.759216   \n",
       "follow         0.000678  0.003542         5.224694         0.759216   \n",
       "left           0.000892  0.004723         5.294357         0.762310   \n",
       "capital        0.000892  0.004723         5.294357         0.762310   \n",
       "ocean          0.000571  0.003542         6.204324         0.796532   \n",
       "exists         0.000535  0.003542         6.617946         0.809053   \n",
       "belongs        0.000500  0.003542         7.090656         0.821611   \n",
       "families       0.000500  0.004723         9.454208         0.865825   \n",
       "protected      0.000678  0.007084        10.449388         0.878522   \n",
       "dreams         0.000535  0.007084        13.235891         0.903986   \n",
       "factories      0.000250  0.004723        18.908416         0.932725   \n",
       "borders        0.000250  0.004723        18.908416         0.932725   \n",
       "jobs           0.000285  0.005903        20.681080         0.938482   \n",
       "everyone       0.000285  0.005903        20.681080         0.938482   \n",
       "\n",
       "group                trumpiness  \n",
       "word                             \n",
       "peace         Most presidential  \n",
       "constitution  Most presidential  \n",
       "freedom       Most presidential  \n",
       "union         Most presidential  \n",
       "war           Most presidential  \n",
       "government    Most presidential  \n",
       "rights        Most presidential  \n",
       "laws          Most presidential  \n",
       "congress      Most presidential  \n",
       "justice       Most presidential  \n",
       "liberty       Most presidential  \n",
       "best          Most presidential  \n",
       "duty          Most presidential  \n",
       "hope          Most presidential  \n",
       "public        Most presidential  \n",
       "states        Most presidential  \n",
       "state         Most presidential  \n",
       "political     Most presidential  \n",
       "know          Most presidential  \n",
       "man           Most presidential  \n",
       "...                         ...  \n",
       "longer              Most Trumpy  \n",
       "heart               Most Trumpy  \n",
       "safe                Most Trumpy  \n",
       "thank               Most Trumpy  \n",
       "washington          Most Trumpy  \n",
       "wealth              Most Trumpy  \n",
       "bless               Most Trumpy  \n",
       "follow              Most Trumpy  \n",
       "left                Most Trumpy  \n",
       "capital             Most Trumpy  \n",
       "ocean               Most Trumpy  \n",
       "exists              Most Trumpy  \n",
       "belongs             Most Trumpy  \n",
       "families            Most Trumpy  \n",
       "protected           Most Trumpy  \n",
       "dreams              Most Trumpy  \n",
       "factories           Most Trumpy  \n",
       "borders             Most Trumpy  \n",
       "jobs                Most Trumpy  \n",
       "everyone            Most Trumpy  \n",
       "\n",
       "[500 rows x 5 columns]"
      ]
     },
     "execution_count": 78,
     "metadata": {},
     "output_type": "execute_result"
    }
   ],
   "source": [
    "extremes_k = 20\n",
    "pd.options.display.max_rows = extremes_k * 2\n",
    "df_proportions_sorted"
   ]
  },
  {
   "cell_type": "code",
   "execution_count": 79,
   "metadata": {
    "collapsed": false
   },
   "outputs": [],
   "source": [
    "ranked_words = list(df_proportions.sort_values(u'trump°inaugural').index)\n",
    "extremes = {\n",
    "    'inaugural': ranked_words[:extremes_k],\n",
    "    'trump': ranked_words[-extremes_k:],\n",
    "}"
   ]
  },
  {
   "cell_type": "code",
   "execution_count": 84,
   "metadata": {
    "collapsed": false
   },
   "outputs": [],
   "source": [
    "extremes_vocab = set(reduce(lambda a, b: a + b, extremes.values()))"
   ]
  },
  {
   "cell_type": "code",
   "execution_count": 89,
   "metadata": {
    "collapsed": true
   },
   "outputs": [],
   "source": [
    "keywords_vocab = {'freedom', 'freedoms', 'liberty', 'liberties', 'rights', 'justice',\n",
    "                  'borders', 'protected', 'jobs', 'families', 'factories', 'wealth'}"
   ]
  },
  {
   "cell_type": "code",
   "execution_count": 90,
   "metadata": {
    "collapsed": false
   },
   "outputs": [],
   "source": [
    "# df_proportions_subset = df_proportions[df_proportions.index.isin(extreme_40)]\n",
    "df_proportions_subset = df_proportions"
   ]
  },
  {
   "cell_type": "code",
   "execution_count": 177,
   "metadata": {
    "collapsed": false
   },
   "outputs": [
    {
     "data": {
      "image/png": "[encoded data removed]",
      "text/plain": [
       "<matplotlib.figure.Figure at 0x1080a4150>"
      ]
     },
     "metadata": {},
     "output_type": "display_data"
    }
   ],
   "source": [
    "plt.figure(figsize=(8.5, 8.5))\n",
    "xs = df_proportions_subset.inaugural\n",
    "plt.xlabel(\"Proportion in all prior inaugural addresses\")\n",
    "ys = df_proportions_subset.trump - min(df_proportions_subset.trump)\n",
    "plt.ylabel(\"Proportion in President Trump's inaugural address\")\n",
    "# points\n",
    "plt.scatter(xs, ys, \n",
    "            c=df_proportions_subset[u'trump°inaugural'], cmap=plt.cm.cool, #c='#27BC8A',\n",
    "            linewidths=.3, s=25, alpha=0.5)\n",
    "ax = plt.gca()\n",
    "for spine in ax.spines:\n",
    "    ax.spines[spine].set_visible(False)\n",
    "# labels\n",
    "annotations = []\n",
    "for index, (label, x, y) in enumerate(zip(df_proportions_subset.index, xs, ys)):\n",
    "    if label in extremes_vocab:\n",
    "        size = 'large' if label in keywords_vocab else None\n",
    "        annotation = plt.text(x, y, label, size=size)\n",
    "        #annotation = plt.annotate(label, xy=(x, y), size=size)\n",
    "        #, xytext=(2, 2), textcoords='offset points', ha='left', va='bottom')\n",
    "        annotations.append(annotation)\n",
    "# adjustments\n",
    "adjust_text(annotations, force_text=0.012, force_points=0.4,\n",
    "            arrowprops=dict(arrowstyle=\"-\", color='k', alpha=0.33), lim=1000)\n",
    "# plt.xlim(-2.0*margin, 0.015)\n",
    "# plt.ylim(-2.0*margin, 0.015)\n",
    "#plt.plot([0, plt.xlim()[1]], [0, plt.ylim()[1]])\n",
    "# plt.xlim(-2.0*margin, max(xs) + 0.0017)\n",
    "# plt.ylim(-.5*margin, 0.0075)\n",
    "plt.vlines(0, 0, 1, alpha=0.25)\n",
    "plt.hlines(0, 0, 1, alpha=0.25)\n",
    "plt.title('A comparison of the proportions of common content words in presidential inaugural addresses')\n",
    "plt.xlim(-0.004, 0.015)\n",
    "plt.ylim(-0.002, 0.011)\n",
    "# add %-age ticks\n",
    "ax.xaxis.set_major_formatter(ticker.FuncFormatter(lambda x, _: '{:.0%}'.format(x)))\n",
    "ax.yaxis.set_major_formatter(ticker.FuncFormatter(lambda y, _: '{:.0%}'.format(y)))\n",
    "plt.xticks(np.arange(0, plt.xlim()[1], 0.01))\n",
    "plt.yticks(np.arange(0, plt.ylim()[1], 0.01))\n",
    "plt.tight_layout()\n",
    "# plt.savefig('inaugural_scatter_labeled_v2.pdf')"
   ]
  },
  {
   "cell_type": "code",
   "execution_count": null,
   "metadata": {
    "collapsed": false
   },
   "outputs": [],
   "source": []
  },
  {
   "cell_type": "code",
   "execution_count": null,
   "metadata": {
    "collapsed": true
   },
   "outputs": [],
   "source": [
    "\n",
    "\n",
    "\n",
    "\n",
    "\n",
    "\n",
    "\n",
    "\n",
    "\n",
    "\n",
    "\n",
    "\n",
    "\n",
    "\n",
    "\n",
    "\n",
    "\n",
    "\n",
    "\n",
    "\n",
    "\n",
    "\n",
    "\n",
    "\n"
   ]
  },
  {
   "cell_type": "code",
   "execution_count": null,
   "metadata": {
    "collapsed": true
   },
   "outputs": [],
   "source": [
    "\n",
    "\n",
    "\n",
    "\n",
    "\n",
    "\n",
    "\n",
    "\n",
    "\n",
    "\n",
    "\n",
    "\n",
    "\n",
    "\n",
    "\n",
    "\n",
    "\n",
    "\n",
    "\n",
    "\n",
    "\n",
    "\n"
   ]
  }
 ],
 "metadata": {
  "kernelspec": {
   "display_name": "Python 2",
   "language": "python",
   "name": "python2"
  },
  "language_info": {
   "codemirror_mode": {
    "name": "ipython",
    "version": 2
   },
   "file_extension": ".py",
   "mimetype": "text/x-python",
   "name": "python",
   "nbconvert_exporter": "python",
   "pygments_lexer": "ipython2",
   "version": "2.7.13"
  }
 },
 "nbformat": 4,
 "nbformat_minor": 2
}
